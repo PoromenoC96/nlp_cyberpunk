{
 "cells": [
  {
   "cell_type": "markdown",
   "metadata": {},
   "source": [
    "<h1 align=\"center\">MSIN0221: Natural Language Processing</h1>\n",
    "<h2 align=\"center\">A Social Listening Review of Cyberpunk 2077 on Reddit</h2>\n",
    "<br>\n",
    "<div align=\"center\">Group 6 Coursework</div>\n",
    "<div align=\"center\">Word Count: 3,600</div>\n",
    "<div align=\"center\">April 2021</div>\n",
    "<br>\n",
    "<img src=\"./cybp.jpg\" width=\"100%\"  align=\"left\">"
   ]
  },
  {
   "cell_type": "markdown",
   "metadata": {},
   "source": [
    "## Table of Contents\n",
    "* [1. Introduction](#1.-Introduction)\n",
    "* [2. Data Preparation](#2.-Data-Preparation)\n",
    "    * [2.1 Data Profiling and Initial Cleaning](#2.1-Data-Profiling-and-Initial-Cleaning)\n",
    "    * [2.2 Data Cleaning and Pre-processing](#2.2-Data-Cleaning-and-Pre-processing)\n",
    "* [3. Topic Modelling](#3.-Topic-Modelling)\n",
    "    * [3.1 Model Selection](#3.1-Model-Selection)\n",
    "    * [3.2 Topic Model Fine Tune and Result Interpretation](#3.2-Topic-Model-Fine-Tune-and-Result-Interpretation)\n",
    "* [4. Sentiment Analysis](#4.-Sentiment-Analysis)\n",
    "* [5. Conclusion](#5.-Conclusion)\n",
    "* [6. Limitations and Future Research](#6.-Limitations-and-Future-Research)\n",
    "* [7. Bibliography](#7.-Bibliography)\n",
    "* [8. Appendix](#8.-Appendix)"
   ]
  },
  {
   "cell_type": "code",
   "execution_count": 58,
   "metadata": {},
   "outputs": [
    {
     "name": "stdout",
     "output_type": "stream",
     "text": [
      "3374\n"
     ]
    }
   ],
   "source": [
    "# Displaying the word count\n",
    "\n",
    "import io\n",
    "from nbformat import current\n",
    "def nb_word_count(nb_path):\n",
    "    with io.open(nb_path, 'r', encoding='utf-8') as f:\n",
    "        nb = current.read(f, 'json')\n",
    "        word_count = 0\n",
    "        for cell in nb.worksheets[0].cells:\n",
    "            if cell.cell_type == \"markdown\":\n",
    "                word_count += len(cell['source'].replace('#', '').lstrip().split(' '))\n",
    "    return word_count\n",
    "\n",
    "nb_path = \"./Finalised.ipynb\"\n",
    "word_count = nb_word_count(nb_path)\n",
    "\n",
    "print(word_count)\n",
    "# nb_word_count(nb_path)"
   ]
  },
  {
   "cell_type": "markdown",
   "metadata": {},
   "source": [
    "# 1. Introduction"
   ]
  },
  {
   "cell_type": "markdown",
   "metadata": {},
   "source": [
    "**Background on Cyberpunk 2077 -**\n",
    "\n",
    "Cyberpunk 2077 is a first-person shooter game set in a dystopian future in 2077 developed by CDPR, the Polish video game studio behind the massive game hit, Witcher 3. The anticipation from its teasers launched in 2012 and the endorsement from celebrities like Keanu Reeves led to 8 million preorders for its 2020 release despite the two delays. However, the game received massive criticism for its glitches across platforms, with viral memes flooding the community after its launch. Microsoft and Sony offered full refunds, with Sony even pulling the game from its store for days. As a group of enthusiastic gamers and followers, we are keen to identify the topics on which the game community focused by developing a social listening review on this game based on the discussions on Reddit.\n",
    "\n",
    "**Project goal -**\n",
    "\n",
    "This project aims to monitor the Reddit discussions around Cyberpunk 2077, particularly the expected polarised feedback between pre-launch and post-launch stages, with NLP exercises. By exploring tasks such as scraping Reddit posts and summarising unstructured data, this project could help other gaming companies deploy social listening strategy around Reddit, one of the biggest gamer communities. It could provide business insights in collecting user requirements and feedback at product development and marketing strategies based on UGC posts. Beyond this, this project may be extended to a broader range of use cases around NLP analysis on Reddit for companies trying to understand and monitor social media posts.\n",
    "\n",
    "**This report is structured as follows -**\n",
    "\n",
    "We will firstly scrape and pre-process the data, followed by exploratory data analysis. Section 3 will conduct topic modelling using four different models, evaluate the performances, optimise the best performance model, and apply the fine-tuned model to pre- and post-release datasets. Section 4 will conduct a sentiment analysis to verify a shifted focus or direction that took place pre- and post-release. It will also serve as the initial exploration for future research interest in Aspect Based Sentiment Analysis. Section 5 concludes our approach and its potentials in business applications, followed by Section 6, which summarises the limitations of the current methodology and the future research interest.\n",
    "\n",
    "**The high-level questions to be answered from this NLP exercise are -**\n",
    "\n",
    "- What are the most discussed topics about Cyberpunk 2077 on Reddit pre- and post- release?\n",
    "- Whether Reddit users demonstrate polarised emotions pre- and post- release?\n",
    "- How can gaming companies better use social listening strategy to monitor social media platforms such as Reddit?"
   ]
  },
  {
   "cell_type": "markdown",
   "metadata": {},
   "source": [
    "**The diagram below illustrates the project scope -**\n",
    "<br>\n",
    "<img src=\"./scope.png\" width=\"100%\"  align=\"left\">\n",
    "<br>"
   ]
  },
  {
   "cell_type": "markdown",
   "metadata": {},
   "source": [
    "**Part of the tools we will use for the following analysis are -**"
   ]
  },
  {
   "cell_type": "code",
   "execution_count": 40,
   "metadata": {
    "id": "eCETW0xhMpj3"
   },
   "outputs": [],
   "source": [
    "# Importing relevant libraries\n",
    "\n",
    "from IPython.core.interactiveshell import InteractiveShell\n",
    "InteractiveShell.ast_node_interactivity = \"all\"\n",
    "\n",
    "import pandas as pd\n",
    "import numpy as np\n",
    "import matplotlib.pyplot as plt\n",
    "import sklearn\n",
    "import torch\n",
    "import datetime \n",
    "import seaborn as sns\n",
    "from gensim.models.coherencemodel import CoherenceModel\n",
    "from transformers import pipeline\n",
    "from pprint import pprint\n",
    "from gensim.models import LdaModel\n",
    "\n",
    "# Import spacy (with fallback for Google Colab)\n",
    "import spacy\n",
    "try:\n",
    "    nlp = spacy.load(\"en_core_web_md\")\n",
    "except OSError:\n",
    "    import spacy.cli \n",
    "    print(\"Model not found. Downloading.\")\n",
    "    spacy.cli.download(\"en_core_web_md\")\n",
    "    import en_core_web_md\n",
    "    nlp = en_core_web_md.load()\n",
    "\n",
    "import gensim\n",
    "import emoji\n",
    "\n",
    "pd.set_option('display.max_colwidth', 500)"
   ]
  },
  {
   "cell_type": "markdown",
   "metadata": {},
   "source": [
    "# 2. Data Preparation"
   ]
  },
  {
   "cell_type": "markdown",
   "metadata": {},
   "source": [
    "The main dataset for this project is scraped from Reddit using PRAW, a Python API wrapper that enables us to scrap posts and comments from Reddit. \n",
    "\n",
    "Since the purpose of this study is to explore the polarised pre- and post-release comments on Cyberpunk 2077, our sampling period spans from 1 November 2020 to 31 January under the sub-Reddit topic *cyberpunkgame*, which covers a sufficient period of time before and after the launch date, 10 December 2020.\n",
    "\n",
    "The filter of posts and its associated comments is -\n",
    "\n",
    "- the top 500 posts during the period specified above\n",
    "- the posts and the comments that achieve a score higher than 10,000\n",
    "\n",
    "By applying this filter, we managed to locate 341 main posts and 3726 comments (not exhaustive) that are associated with the posts. In Section 2.1, we will briefly introduce the distribution of these data by date and release-phases.\n",
    "\n",
    "Given that the scraping details are not the primary part of this report, the codes are detailed in Section 8.1 in the appendix. "
   ]
  },
  {
   "cell_type": "markdown",
   "metadata": {},
   "source": [
    "## 2.1 Data Profiling and Initial Cleaning"
   ]
  },
  {
   "cell_type": "code",
   "execution_count": 41,
   "metadata": {
    "colab": {
     "base_uri": "https://localhost:8080/",
     "height": 204
    },
    "id": "Z3QZBDQKNENT",
    "outputId": "68b05371-7253-42c8-84ba-e0e29cad7a7a"
   },
   "outputs": [
    {
     "data": {
      "text/html": [
       "<div>\n",
       "<style scoped>\n",
       "    .dataframe tbody tr th:only-of-type {\n",
       "        vertical-align: middle;\n",
       "    }\n",
       "\n",
       "    .dataframe tbody tr th {\n",
       "        vertical-align: top;\n",
       "    }\n",
       "\n",
       "    .dataframe thead th {\n",
       "        text-align: right;\n",
       "    }\n",
       "</style>\n",
       "<table border=\"1\" class=\"dataframe\">\n",
       "  <thead>\n",
       "    <tr style=\"text-align: right;\">\n",
       "      <th></th>\n",
       "      <th>post_id</th>\n",
       "      <th>score</th>\n",
       "      <th>body</th>\n",
       "    </tr>\n",
       "  </thead>\n",
       "  <tbody>\n",
       "    <tr>\n",
       "      <th>gfi2odd</th>\n",
       "      <td>kbl72a</td>\n",
       "      <td>5386</td>\n",
       "      <td>Oh yeah there were supposed to be trains lmao.</td>\n",
       "    </tr>\n",
       "    <tr>\n",
       "      <th>gfi6o2d</th>\n",
       "      <td>kbl72a</td>\n",
       "      <td>3627</td>\n",
       "      <td>Ugh... That even hurt to watch</td>\n",
       "    </tr>\n",
       "    <tr>\n",
       "      <th>gfi8kuw</th>\n",
       "      <td>kbl72a</td>\n",
       "      <td>2456</td>\n",
       "      <td>After playing for 5 hours i've decided to delay the game  to july 2021</td>\n",
       "    </tr>\n",
       "    <tr>\n",
       "      <th>gfi1oax</th>\n",
       "      <td>kbl72a</td>\n",
       "      <td>1858</td>\n",
       "      <td>Unrealistic – they even lied about the train.</td>\n",
       "    </tr>\n",
       "    <tr>\n",
       "      <th>gfi7jw7</th>\n",
       "      <td>kbl72a</td>\n",
       "      <td>718</td>\n",
       "      <td>this is ridiculous, they have no excuse. they literally marketed the PS4 and XB1 as main devices for the game. Now, they're just gonna isolate this part of their audience? Thank god i didn't buy it on release.</td>\n",
       "    </tr>\n",
       "  </tbody>\n",
       "</table>\n",
       "</div>"
      ],
      "text/plain": [
       "        post_id  score  \\\n",
       "gfi2odd  kbl72a   5386   \n",
       "gfi6o2d  kbl72a   3627   \n",
       "gfi8kuw  kbl72a   2456   \n",
       "gfi1oax  kbl72a   1858   \n",
       "gfi7jw7  kbl72a    718   \n",
       "\n",
       "                                                                                                                                                                                                                      body  \n",
       "gfi2odd                                                                                                                                                                     Oh yeah there were supposed to be trains lmao.  \n",
       "gfi6o2d                                                                                                                                                                                     Ugh... That even hurt to watch  \n",
       "gfi8kuw                                                                                                                                             After playing for 5 hours i've decided to delay the game  to july 2021  \n",
       "gfi1oax                                                                                                                                                                      Unrealistic – they even lied about the train.  \n",
       "gfi7jw7  this is ridiculous, they have no excuse. they literally marketed the PS4 and XB1 as main devices for the game. Now, they're just gonna isolate this part of their audience? Thank god i didn't buy it on release.  "
      ]
     },
     "execution_count": 41,
     "metadata": {},
     "output_type": "execute_result"
    }
   ],
   "source": [
    "# URL links of the files scraped\n",
    "path_comments = \"https://drive.google.com/uc?id=1_heCfHLZKkXGAXw9n2HhlD15YeHkCkJ9\"\n",
    "path_posts = 'https://drive.google.com/uc?id=1dCGUfi6YDKdZx6hJTnf98KWI5Ztkrw_C'\n",
    "\n",
    "# Load the two datasets - posts and its associated comments\n",
    "comments = pd.read_json(path_comments, orient='index')\n",
    "posts = pd.read_json(path_posts, orient='index')\n",
    "\n",
    "# Check the dataset layout of Comments\n",
    "comments.head()"
   ]
  },
  {
   "cell_type": "code",
   "execution_count": 42,
   "metadata": {
    "colab": {
     "base_uri": "https://localhost:8080/",
     "height": 204
    },
    "id": "SMF1kfovVO-v",
    "outputId": "7ffe0c54-0637-4c68-893a-0cd9281d959a"
   },
   "outputs": [
    {
     "data": {
      "text/html": [
       "<div>\n",
       "<style scoped>\n",
       "    .dataframe tbody tr th:only-of-type {\n",
       "        vertical-align: middle;\n",
       "    }\n",
       "\n",
       "    .dataframe tbody tr th {\n",
       "        vertical-align: top;\n",
       "    }\n",
       "\n",
       "    .dataframe thead th {\n",
       "        text-align: right;\n",
       "    }\n",
       "</style>\n",
       "<table border=\"1\" class=\"dataframe\">\n",
       "  <thead>\n",
       "    <tr style=\"text-align: right;\">\n",
       "      <th></th>\n",
       "      <th>title</th>\n",
       "      <th>selftext</th>\n",
       "      <th>post_date</th>\n",
       "      <th>flair</th>\n",
       "      <th>is_self</th>\n",
       "      <th>num_comments</th>\n",
       "      <th>score</th>\n",
       "      <th>upvote_ratio</th>\n",
       "      <th>total_awards_received</th>\n",
       "      <th>url</th>\n",
       "    </tr>\n",
       "  </thead>\n",
       "  <tbody>\n",
       "    <tr>\n",
       "      <th>kbl72a</th>\n",
       "      <td>A day in the life of a PS4 player...</td>\n",
       "      <td></td>\n",
       "      <td>12-Dec-2020</td>\n",
       "      <td>Humour</td>\n",
       "      <td>False</td>\n",
       "      <td>5803</td>\n",
       "      <td>107301</td>\n",
       "      <td>0.95</td>\n",
       "      <td>560</td>\n",
       "      <td>https://v.redd.it/vk5d00chnp461</td>\n",
       "    </tr>\n",
       "    <tr>\n",
       "      <th>khpi7h</th>\n",
       "      <td>Finally got my PS1 copy of the game!</td>\n",
       "      <td></td>\n",
       "      <td>21-Dec-2020</td>\n",
       "      <td>Media</td>\n",
       "      <td>False</td>\n",
       "      <td>1914</td>\n",
       "      <td>93384</td>\n",
       "      <td>0.93</td>\n",
       "      <td>658</td>\n",
       "      <td>https://v.redd.it/eljkr6onnl661</td>\n",
       "    </tr>\n",
       "    <tr>\n",
       "      <th>keztoj</th>\n",
       "      <td>My camera got stuck behind the car and didnt move. So here's V in third person</td>\n",
       "      <td></td>\n",
       "      <td>17-Dec-2020</td>\n",
       "      <td>Meta</td>\n",
       "      <td>False</td>\n",
       "      <td>2641</td>\n",
       "      <td>86901</td>\n",
       "      <td>0.96</td>\n",
       "      <td>286</td>\n",
       "      <td>https://v.redd.it/hrrtsc9zpr561</td>\n",
       "    </tr>\n",
       "    <tr>\n",
       "      <th>keed1m</th>\n",
       "      <td>'Jumping' out of the car at 211 Mph</td>\n",
       "      <td></td>\n",
       "      <td>16-Dec-2020</td>\n",
       "      <td>Discussion</td>\n",
       "      <td>False</td>\n",
       "      <td>4006</td>\n",
       "      <td>79577</td>\n",
       "      <td>0.93</td>\n",
       "      <td>166</td>\n",
       "      <td>https://v.redd.it/h7b4mskdal561</td>\n",
       "    </tr>\n",
       "    <tr>\n",
       "      <th>keexg5</th>\n",
       "      <td>Cyberpunk: The Musical</td>\n",
       "      <td></td>\n",
       "      <td>16-Dec-2020</td>\n",
       "      <td>Media</td>\n",
       "      <td>False</td>\n",
       "      <td>1278</td>\n",
       "      <td>70132</td>\n",
       "      <td>0.95</td>\n",
       "      <td>437</td>\n",
       "      <td>https://v.redd.it/38f31u5mfl561</td>\n",
       "    </tr>\n",
       "  </tbody>\n",
       "</table>\n",
       "</div>"
      ],
      "text/plain": [
       "                                                                                 title  \\\n",
       "kbl72a                                            A day in the life of a PS4 player...   \n",
       "khpi7h                                            Finally got my PS1 copy of the game!   \n",
       "keztoj  My camera got stuck behind the car and didnt move. So here's V in third person   \n",
       "keed1m                                             'Jumping' out of the car at 211 Mph   \n",
       "keexg5                                                          Cyberpunk: The Musical   \n",
       "\n",
       "       selftext    post_date       flair  is_self  num_comments   score  \\\n",
       "kbl72a           12-Dec-2020      Humour    False          5803  107301   \n",
       "khpi7h           21-Dec-2020       Media    False          1914   93384   \n",
       "keztoj           17-Dec-2020        Meta    False          2641   86901   \n",
       "keed1m           16-Dec-2020  Discussion    False          4006   79577   \n",
       "keexg5           16-Dec-2020       Media    False          1278   70132   \n",
       "\n",
       "        upvote_ratio  total_awards_received                              url  \n",
       "kbl72a          0.95                    560  https://v.redd.it/vk5d00chnp461  \n",
       "khpi7h          0.93                    658  https://v.redd.it/eljkr6onnl661  \n",
       "keztoj          0.96                    286  https://v.redd.it/hrrtsc9zpr561  \n",
       "keed1m          0.93                    166  https://v.redd.it/h7b4mskdal561  \n",
       "keexg5          0.95                    437  https://v.redd.it/38f31u5mfl561  "
      ]
     },
     "execution_count": 42,
     "metadata": {},
     "output_type": "execute_result"
    }
   ],
   "source": [
    "# check the dataset layout of Posts\n",
    "posts.head()"
   ]
  },
  {
   "cell_type": "code",
   "execution_count": 43,
   "metadata": {},
   "outputs": [
    {
     "name": "stderr",
     "output_type": "stream",
     "text": [
      "<ipython-input-43-f8a6aabe6da1>:60: MatplotlibDeprecationWarning: Non-1D inputs to pie() are currently squeeze()d, but this behavior is deprecated since 3.1 and will be removed in 3.3; pass a 1D array instead.\n",
      "  ax3.pie(launch_split, startangle=90, colors = ['gainsboro','slategrey'])\n",
      "<ipython-input-43-f8a6aabe6da1>:71: MatplotlibDeprecationWarning: Non-1D inputs to pie() are currently squeeze()d, but this behavior is deprecated since 3.1 and will be removed in 3.3; pass a 1D array instead.\n",
      "  ax4.pie(launch_split_comment, startangle=90, colors = ['gainsboro','slategrey'])\n"
     ]
    },
    {
     "data": {
      "image/png": "[encoded data removed]",
      "text/plain": [
       "<Figure size 1440x360 with 2 Axes>"
      ]
     },
     "metadata": {
      "needs_background": "light"
     },
     "output_type": "display_data"
    },
    {
     "data": {
      "image/png": "[encoded data removed]",
      "text/plain": [
       "<Figure size 1080x216 with 2 Axes>"
      ]
     },
     "metadata": {},
     "output_type": "display_data"
    }
   ],
   "source": [
    "# Create temporary dataframe to check the distribution of scraped data by date\n",
    "\n",
    "# Calculate the number of comments related to each post\n",
    "temp = comments.groupby('post_id')['score'].count().reset_index()\n",
    "\n",
    "# Add the sum of comments of each post to the main dataframe\n",
    "posts_temp = posts.reset_index()\n",
    "posts_temp.rename(columns={'index':'post_id'}, inplace=True)\n",
    "temp = pd.merge(temp,posts_temp,on ='post_id',how='outer')\n",
    "\n",
    "# Update the date datetype\n",
    "temp['post_date_dt'] = pd.to_datetime(temp['post_date'])\n",
    "temp['post_date_dt'] = temp['post_date_dt'].dt.date\n",
    "datelist = temp['post_date_dt'].unique().tolist()\n",
    "datelist = sorted(datelist)\n",
    "\n",
    "# Create plotting area\n",
    "fig, ax1 = plt.subplots(nrows=1, ncols=1,figsize=(20,5))\n",
    "\n",
    "# Set up color of graphs - highlight the release date December 10\n",
    "colors1 = ['slategrey']*84\n",
    "colors1[32]='crimson'\n",
    "\n",
    "colors2 = ['gainsboro']*84\n",
    "colors2[32]='mistyrose'\n",
    "\n",
    "# Plot on primary and secondary axis\n",
    "ax1 = temp.sort_values('post_date_dt').groupby('post_date_dt')['score_x'].sum().plot(kind='bar', ax=ax1, color = colors2,label = '# of comments')\n",
    "ax2 = temp.sort_values('post_date_dt').groupby('post_date_dt')['title'].count().plot(kind='bar', ax=ax1, width=0.15, secondary_y=True, color = colors1,label = '# of posts')\n",
    "\n",
    "# Format the graph\n",
    "ax1.legend(loc=2)\n",
    "ax2.legend(loc=0)\n",
    "ax1.set_title('Number of posts and comments from highest upvoted posts by date', fontsize=12)\n",
    "ax1.set_xlabel('', fontsize=8)\n",
    "ax1.set_ylabel('Number of comments', fontsize=10)\n",
    "ax2.set_ylabel('Number of posts', fontsize=10)\n",
    "ax1.tick_params(axis='x', colors='k')\n",
    "ax1.get_xticklabels()[32].set_color('red')\n",
    "ax1.set_ylim([0, 350])\n",
    "ax2.set_ylim([0, 35])\n",
    "\n",
    "# Check the distribution of scraped data by pre- or post-release\n",
    "\n",
    "# Create a new column to categorise pre- or post-release by date (release on Dec 10, 2020)\n",
    "import datetime\n",
    "temp['split'] = temp['post_date_dt'].apply(lambda x: 'pre-launch' if x < datetime.date(2020, 12, 10) else 'post-launch')\n",
    "\n",
    "# Create plotting area\n",
    "from matplotlib.offsetbox import AnchoredText\n",
    "fig = plt.figure(figsize=(15,3))\n",
    "ax3 = plt.subplot(121)\n",
    "ax4 = plt.subplot(122)\n",
    "\n",
    "# Calculate the share of main posts by pre- and post-release\n",
    "launch_split = temp[['title','split']].groupby(['split']).count() / len(temp)*100\n",
    "labels1 = pd.Series([launch_split.index[i]+\" {0:.2f}%\".format(val) for i,val in enumerate(launch_split['title'])])\n",
    "\n",
    "# Plot the pie chart of posts\n",
    "ax3.pie(launch_split, startangle=90, colors = ['gainsboro','slategrey'])\n",
    "ax3.set_title('Distribution of the highest upvoted posts by release status')\n",
    "ax3.legend(labels1)\n",
    "anchored_text = AnchoredText(\"Total posts: 341\", loc=2)\n",
    "ax3.add_artist(anchored_text)\n",
    "\n",
    "# Calculate the share of comments by pre- and post-release\n",
    "launch_split_comment = temp[['score_x','split']].groupby(['split']).sum() / len(comments)*100\n",
    "labels2 = pd.Series([launch_split.index[i]+\" {0:.2f}%\".format(val) for i,val in enumerate(launch_split_comment['score_x'])])\n",
    "\n",
    "# Plot the pie chart of comments\n",
    "ax4.pie(launch_split_comment, startangle=90, colors = ['gainsboro','slategrey'])\n",
    "ax4.set_title('Distribution of comments under the highest upvoted posts by release status')\n",
    "ax4.legend(labels2)\n",
    "anchored_text = AnchoredText(\"Total comments: 3726\", loc=2)\n",
    "ax4.add_artist(anchored_text);"
   ]
  },
  {
   "cell_type": "code",
   "execution_count": 44,
   "metadata": {
    "colab": {
     "base_uri": "https://localhost:8080/"
    },
    "id": "A_DyCRUQVWNG",
    "outputId": "46589fa8-d7f6-4aa7-cbe5-6188003fcb13"
   },
   "outputs": [
    {
     "data": {
      "text/plain": [
       "kbl72a                                              A day in the life of a PS4 player...\n",
       "khpi7h                                              Finally got my PS1 copy of the game!\n",
       "keztoj    My camera got stuck behind the car and didnt move. So here's V in third person\n",
       "keed1m                                               'Jumping' out of the car at 211 Mph\n",
       "keexg5                                                            Cyberpunk: The Musical\n",
       "Name: full_text, dtype: object"
      ]
     },
     "execution_count": 44,
     "metadata": {},
     "output_type": "execute_result"
    }
   ],
   "source": [
    "# post titles can be very short and some posts have no accompanying text\n",
    "# we combine titles and any text together\n",
    "posts['full_text'] = posts['title'] + posts['selftext']\n",
    "posts['full_text'].head()"
   ]
  },
  {
   "cell_type": "code",
   "execution_count": 45,
   "metadata": {
    "colab": {
     "base_uri": "https://localhost:8080/"
    },
    "id": "aGFZmzgy5fv4",
    "outputId": "51eb81fa-5ebc-4275-add5-2f8aaf89d05f"
   },
   "outputs": [
    {
     "data": {
      "text/plain": [
       "post_id\n",
       "kbl72a    A day in the life of a PS4 player... Oh yeah there were supposed to be trains lmao. Ugh... That even hurt to watch After playing for 5 hours i've decided to delay the game  to july 2021 Unrealistic – they even lied about the train. this is ridiculous, they have no excuse. they literally marketed the PS4 and XB1 as main devices for the game. Now, they're just gonna isolate this part of their audience? Thank god i didn't buy it on release. It lags out and crashed for me on Xbox one too. *sigh*...\n",
       "khpi7h    Finally got my PS1 copy of the game! This is the most high effort shitpost I've ever seen. \\n\\nSpecifically died at the 2D sprite cars that disappear at a certain distance. I lold when the NPC fucking T poses away like a fucking helicopter The car grinding along the curb is too perfect.\\n\\nFirst thing I saw in Night City after the intro was a wild NPC taking out all the cans/rails along a curb. Wait this is hilarious. How was this made?\\n\\nEdit; LMAO, FOR REAL! What did they make this on?!! ...\n",
       "keztoj    My camera got stuck behind the car and didnt move. So here's V in third person V notices the camera and then T poses. \\n\\nChecks out. The part when he went into a t-pose got me so good, friggin' dying rn Lmfao how V's shadow looks suddenly makes sense This is insanely creepy to me That explains why you have to interact with mirrors to see your reflection The way he runs around like a t-Rex killed me lol I've had this same glitches happen a few times. First time was on the BD mission. Spawned...\n",
       "keed1m    'Jumping' out of the car at 211 Mph The future is now old man Obviously it’s 2077 you can do that. Your 2020 ape brain can’t comprehend it. That's how Indian movie heroes step down out of a running car. 10/10 This slows down that car faster than the fucking brakes do. It's like they put old 1980s used car brakes on this thing. \\n\\nThat being said, why is the top speed of a futuristic hypercar slower than the top speed of a real life hypercar? I mistakenly did the same thing yesterday and had...\n",
       "keexg5    Cyberpunk: The Musical Lmfao wasn’t expecting the crash Ryan Gosling was in Blade Runner 2044 and LALA Land. Coincidence??? I think not! I’m still amazed your game has more than 4 cars in the city at one time. This is so good lmao This is without a doubt the funniest thing I've seen related to this game. I'm howling. Oh my cybersides 🤣 Then you must not have played the game yet! Crashing on next gen consoles on average once an hour for some, is feature to help you cool down and relax.\\n\\nEdi...\n",
       "dtype: object"
      ]
     },
     "execution_count": 45,
     "metadata": {},
     "output_type": "execute_result"
    }
   ],
   "source": [
    "# combine comments from a post into one doc with post title and selftext\n",
    "aggcomments = comments.groupby('post_id').agg({'body':' '.join})\n",
    "data = pd.merge(posts['full_text'], aggcomments, left_index=True, right_on='post_id')\n",
    "all_docs = data.agg(' '.join, axis=1)\n",
    "all_docs.head()"
   ]
  },
  {
   "cell_type": "code",
   "execution_count": 46,
   "metadata": {
    "id": "M_9Pkrd7Nm_K"
   },
   "outputs": [],
   "source": [
    "# split posts into pre and post release\n",
    "posts['post_date'] = pd.to_datetime(posts['post_date'])\n",
    "pre_release_filter = posts['post_date'] < datetime.datetime(2020, 12, 10)\n",
    "pre_release_posts = posts.loc[pre_release_filter, :]\n",
    "post_release_posts = posts.loc[~pre_release_filter, :]"
   ]
  },
  {
   "cell_type": "code",
   "execution_count": 47,
   "metadata": {
    "colab": {
     "base_uri": "https://localhost:8080/"
    },
    "id": "IpARvvgcPBUq",
    "outputId": "35d392f1-ec09-41b0-e6d0-39ecd9fdd9df"
   },
   "outputs": [
    {
     "name": "stdout",
     "output_type": "stream",
     "text": [
      "Count: 63\n"
     ]
    },
    {
     "data": {
      "text/plain": [
       "k0qloh    lol... Well good for them though.  They beat George R. R. Martin’s next book out, so they’ve got that going for them. Forgot to add the whole halo series was ported to pc lol 11 Call of Dutys says so much... New Half-Life game lol They forgot Witcher 3 and it's dlc's So it's one pope per fallout >5 Jojo animations\\n\\nwow that really puts things into perspective Finished school\\n\\nFinished sixth form\\n\\nFinished college\\n\\nFinished University\\n\\nWorked in several jobs over 2 years.....\\n\\n......\n",
       "jokwyh                                                                                                                        No wonder the US Elections 2020 have been slow to update results I wonder what will happen first, Cyberpunk release or Election results. Of what year? Thats the why we have nevada situation lmao Election results are legally due by December 8, so the election will be first. [deleted] I think at this point that's largely dependent on other country's travel restrictions for Americans\n",
       "k274tx    Me launching Cyberpunk 2077 for the first time This little maneuver is gonna cost us 51 years. Matthew’s performance was wonderful here. [deleted] This is also me the moment my fps drops to 59 on my rtx 3080 Fuck yeah dude! If I had the money to give you an award, I would do it! It feels so true probably gonna be 2am before I even start the game after character creation. More like 57. Absolutely agreed I literally just finished my first viewing of Interstellar 30 minutes ago. This is the onl...\n",
       "k1vz7y    Nobody is born cool, except... When I saw that poll I was thinking it must suck to be them. I'm just leaving the sub Problem is game has so many variations even if you finish the game as Corpo and have one ending, there is 50 quest outcomes you missed in the story by making choices and there are also other life paths to consider. Geez. makes ya wonder just how long the game will take to fully 100% every single thing? I'm still trying to decide on which path to take. Also did they make any me...\n",
       "jyc3cw                                                         Oh no It really pick up during the Cyberdong Arc. Oh lord... Stop giving them ideas! Time traveler here. While this meme is funny now, it won’t be when you realize a spinoff comes out later..   still waiting for release. Devs have gone gold again! So there might be hope. \\nApparently the game was being held back because the ps9 wasn’t powerful enough... ***breh*** No nonnonononononono I personally think the Cyber-Chimera Ant Arc was too long.\n",
       "dtype: object"
      ]
     },
     "execution_count": 47,
     "metadata": {},
     "output_type": "execute_result"
    }
   ],
   "source": [
    "# get pre release documents\n",
    "pre_release_docs = all_docs.reindex(pre_release_posts.index)\n",
    "print('Count:', len(pre_release_docs))\n",
    "pre_release_docs.head()"
   ]
  },
  {
   "cell_type": "code",
   "execution_count": 48,
   "metadata": {
    "colab": {
     "base_uri": "https://localhost:8080/"
    },
    "id": "YBfy6HsePSSY",
    "outputId": "e13bbf8c-5152-4dd3-a787-083413669ce2"
   },
   "outputs": [
    {
     "name": "stdout",
     "output_type": "stream",
     "text": [
      "Count: 278\n"
     ]
    },
    {
     "data": {
      "text/plain": [
       "kbl72a    A day in the life of a PS4 player... Oh yeah there were supposed to be trains lmao. Ugh... That even hurt to watch After playing for 5 hours i've decided to delay the game  to july 2021 Unrealistic – they even lied about the train. this is ridiculous, they have no excuse. they literally marketed the PS4 and XB1 as main devices for the game. Now, they're just gonna isolate this part of their audience? Thank god i didn't buy it on release. It lags out and crashed for me on Xbox one too. *sigh*...\n",
       "khpi7h    Finally got my PS1 copy of the game! This is the most high effort shitpost I've ever seen. \\n\\nSpecifically died at the 2D sprite cars that disappear at a certain distance. I lold when the NPC fucking T poses away like a fucking helicopter The car grinding along the curb is too perfect.\\n\\nFirst thing I saw in Night City after the intro was a wild NPC taking out all the cans/rails along a curb. Wait this is hilarious. How was this made?\\n\\nEdit; LMAO, FOR REAL! What did they make this on?!! ...\n",
       "keztoj    My camera got stuck behind the car and didnt move. So here's V in third person V notices the camera and then T poses. \\n\\nChecks out. The part when he went into a t-pose got me so good, friggin' dying rn Lmfao how V's shadow looks suddenly makes sense This is insanely creepy to me That explains why you have to interact with mirrors to see your reflection The way he runs around like a t-Rex killed me lol I've had this same glitches happen a few times. First time was on the BD mission. Spawned...\n",
       "keed1m    'Jumping' out of the car at 211 Mph The future is now old man Obviously it’s 2077 you can do that. Your 2020 ape brain can’t comprehend it. That's how Indian movie heroes step down out of a running car. 10/10 This slows down that car faster than the fucking brakes do. It's like they put old 1980s used car brakes on this thing. \\n\\nThat being said, why is the top speed of a futuristic hypercar slower than the top speed of a real life hypercar? I mistakenly did the same thing yesterday and had...\n",
       "keexg5    Cyberpunk: The Musical Lmfao wasn’t expecting the crash Ryan Gosling was in Blade Runner 2044 and LALA Land. Coincidence??? I think not! I’m still amazed your game has more than 4 cars in the city at one time. This is so good lmao This is without a doubt the funniest thing I've seen related to this game. I'm howling. Oh my cybersides 🤣 Then you must not have played the game yet! Crashing on next gen consoles on average once an hour for some, is feature to help you cool down and relax.\\n\\nEdi...\n",
       "dtype: object"
      ]
     },
     "execution_count": 48,
     "metadata": {},
     "output_type": "execute_result"
    }
   ],
   "source": [
    "# get post release documents\n",
    "post_release_docs = all_docs.reindex(post_release_posts.index)\n",
    "print('Count:', len(post_release_docs))\n",
    "post_release_docs.head()"
   ]
  },
  {
   "cell_type": "code",
   "execution_count": 49,
   "metadata": {
    "colab": {
     "base_uri": "https://localhost:8080/",
     "height": 281
    },
    "id": "Yy4RNm3uphW1",
    "outputId": "81a415f9-378c-444f-ad5e-6d1c8966ecbb"
   },
   "outputs": [
    {
     "data": {
      "image/png": "[encoded data removed]",
      "text/plain": [
       "<Figure size 864x288 with 1 Axes>"
      ]
     },
     "metadata": {
      "needs_background": "light"
     },
     "output_type": "display_data"
    }
   ],
   "source": [
    "plt.figure(figsize=(12,4))\n",
    "plt.hist(all_docs.str.len(), bins=100, density=True)\n",
    "plt.title('Distribution of document length')\n",
    "plt.show();"
   ]
  },
  {
   "cell_type": "markdown",
   "metadata": {},
   "source": [
    "## 2.2 Data Cleaning and Pre-processing"
   ]
  },
  {
   "cell_type": "markdown",
   "metadata": {
    "id": "vR7i0a9TRLsE"
   },
   "source": [
    "In this section, we transform the documents to make it feasible to perform NLP tasks in the latter sections. The main procedues that take place in the cleaning and pre-processing section include -\n",
    "\n",
    "- Remove markdown formatting characters and punctuation (e.g. *, \\n, >, >!, \\&nbsp;)\n",
    "- Remove autogenerated bot comments (e.g. ‘[deleted]’, ‘[removed]’)\n",
    "- Remove URLs and hyperlinks\n",
    "- Tokenizing and lowercasing\n",
    "- Filtering out stop words\n",
    "- Lemmatization\n",
    "- n-gram detection"
   ]
  },
  {
   "cell_type": "code",
   "execution_count": 50,
   "metadata": {
    "id": "h22jx7bq6HYl"
   },
   "outputs": [],
   "source": [
    "import re\n",
    "from gensim.models.phrases import Phrases # for ngram (collocation) detection\n",
    "\n",
    "def remove_url(text: str) -> str:\n",
    "    url_pat = r'http[:\\w./-]*|www[:\\w./-?\\d]*'\n",
    "    m = re.sub(url_pat, '', text)\n",
    "    return m\n",
    "\n",
    "def remove_esc_seq(text: str) -> str:\n",
    "    pat = r'\\n'\n",
    "    m = re.sub(pat, ' ', text)\n",
    "    return m\n",
    "\n",
    "def remove_deleted(text: str) -> str:\n",
    "    pat = r'\\[removed\\]|\\[deleted\\]'\n",
    "    m = re.sub(pat, '', text)\n",
    "    return m\n",
    "\n",
    "# tokenize and lemmatize using spacy\n",
    "def tokenize_lemmatize(doc):\n",
    "    return [token.lemma_ for token in nlp(doc.lower()) if (not token.is_stop) and (not token.pos_ in ['PUNCT','SPACE', 'X', 'SYM','CONJ','CCONJ'])]\n",
    "\n",
    "def remove_emoji(token_list: list) -> list:\n",
    "    # create emoji list\n",
    "    emoji_list = {}\n",
    "    for i, j in emoji.UNICODE_EMOJI.items():\n",
    "        for k, l in j.items():\n",
    "            emoji_list[k] = l\n",
    "\n",
    "    return [i for i in token_list if i not in emoji_list]\n",
    "\n",
    "def preprocess_documents(s: pd.Series, get_ngrams=True, ngram_min_count=5, ngram_threshold=10) -> pd.Series:\n",
    "    '''\n",
    "    This function calls previous individual cleaning and processing functions on a series of text\n",
    "    Returns a series of cleaned text ngrams/tokens in a list\n",
    "    '''\n",
    "\n",
    "    # remove urls\n",
    "    s = s.apply(remove_url)\n",
    "    # remove \\n new line\n",
    "    s = s.apply(remove_esc_seq)\n",
    "    # remove deleted and removed comments\n",
    "    s = s.apply(remove_deleted)\n",
    "\n",
    "    # tokenize and lemmatize\n",
    "    tokens = s.apply(tokenize_lemmatize)\n",
    "    # remove emoji tokens\n",
    "    tokens = tokens.apply(remove_emoji)\n",
    "\n",
    "    if get_ngrams:\n",
    "        # ngram detection parameters - higher threshold means being stricter on the relationship between two words\n",
    "        phrase_model = Phrases(tokenized_docs, min_count=ngram_min_count, threshold=ngram_threshold) \n",
    "        ngrams = tokens.apply(lambda x: phrase_model[x])\n",
    "        return ngrams\n",
    "\n",
    "    else:\n",
    "        return tokens"
   ]
  },
  {
   "cell_type": "code",
   "execution_count": 51,
   "metadata": {
    "colab": {
     "base_uri": "https://localhost:8080/"
    },
    "id": "WDHihVtSdKIb",
    "outputId": "c5e7c872-10c6-4487-efba-ec768fe0f3d2"
   },
   "outputs": [
    {
     "name": "stdout",
     "output_type": "stream",
     "text": [
      "easter_egg; score:2622.421875\n",
      "san_andreas; score:2542.9545454545455\n",
      "deus_ex; score:1709.4305555555554\n",
      "film_grain; score:1554.0277777777776\n",
      "chromatic_aberration; score:1332.0238095238094\n",
      "͡_°; score:1332.0238095238094\n",
      "mantis_blade; score:1243.2222222222222\n",
      "cd_projekt; score:1149.1405405405405\n",
      "gorilla_arm; score:1081.0628019323672\n",
      "t_pose; score:932.4166666666666\n",
      "fallout_76; score:847.6515151515151\n",
      "trauma_team; score:839.6998123827392\n",
      "projekt_red; score:813.7454545454545\n",
      "keanu_reeve; score:806.8990384615385\n",
      "mass_effect; score:799.2142857142857\n",
      "gon_na; score:792.18994140625\n",
      "blade_runner; score:745.9333333333334\n",
      "beep_motherfucker; score:616.4738292011019\n",
      "action_adventure; score:593.580901856764\n",
      "looter_shooter; score:570.8673469387754\n"
     ]
    }
   ],
   "source": [
    "## For graphing top ngram counts\n",
    "tokenized_docs = preprocess_documents(all_docs, get_ngrams=False)\n",
    "\n",
    "# get ngram counts\n",
    "from collections import Counter\n",
    "phrase_model = Phrases(tokenized_docs, min_count=5, threshold=10) \n",
    "ngram_counts = Counter(phrase_model.export_phrases())\n",
    "for gram_pair, score in ngram_counts.most_common(20):\n",
    "    print(f'{gram_pair}; score:{score}')\n",
    "\n",
    "# We see that no trigrams are found based on our threshold, only bigrams. \n",
    "# These are the top 20 by score"
   ]
  },
  {
   "cell_type": "code",
   "execution_count": 52,
   "metadata": {
    "colab": {
     "base_uri": "https://localhost:8080/",
     "height": 367
    },
    "id": "bEkw4mzbkXAL",
    "outputId": "fb115a4b-2102-42f3-db1f-c92abcb1fbf7"
   },
   "outputs": [
    {
     "data": {
      "image/png": "[encoded data removed]",
      "text/plain": [
       "<Figure size 864x288 with 1 Axes>"
      ]
     },
     "metadata": {
      "needs_background": "light"
     },
     "output_type": "display_data"
    }
   ],
   "source": [
    "# plot the top 20 bigrams\n",
    "top20_ngrams, top20_scores = zip(*ngram_counts.most_common(20))\n",
    "\n",
    "plt.figure(figsize=(12,4))\n",
    "plt.bar(top20_ngrams, height=top20_scores)\n",
    "plt.xticks(rotation=45, ha='right', fontsize=12)\n",
    "plt.title('Scores of Top 20 Bigrams')\n",
    "plt.ylabel('Score')\n",
    "plt.plot();"
   ]
  },
  {
   "cell_type": "markdown",
   "metadata": {},
   "source": [
    "# 3. Topic Modelling"
   ]
  },
  {
   "cell_type": "markdown",
   "metadata": {},
   "source": [
    "From the initial findings of exploratory data analysis, we have identified multiple areas of topics that arise among Reddit users' comments, such as -\n",
    "\n",
    "- easter_egg and san_andreas, the inside-game credits in the game that refer to other games \n",
    "- cd_projekt, the game developer of Cyberpunk\n",
    "- deus_ex, another popular game that is commonly compared with Cyberpunk\n",
    "\n",
    "In the initial exploration, we will first deploy four models based on two types of features, which are Bag of Words and Term Frequency–Inverse Document Frequency, to implement topic modelling to extract the main topics that occur across the entire dataset that we have scraped from Reddit which covers both pre- and post-release periods. The four models under investigations are Latent Semantic Analysis, Latent Dirichlet Allocation, Hierarchical Dirichlet Process and Short Text Topic Modeling.\n",
    "\n",
    "Following this, we will evaluate the model performance before choosing the best model for fine-tuning. Due to the lack of unified evaluation metrics across the four models, we will deploy different metrics to compare.\n",
    "\n",
    "The purpose of this section is to understand if there is any transition of focus and topics discussed among the game community pre- and post-release of the game. We expect the topics to be shifted from the game trailer, the key character *Keanu Reeve* in the pre-release period to the story plot and the bugs of the game, particularly in the post-release period.\n",
    "\n",
    "Summary of the modelling methodology - \n",
    "\n",
    "**Features:**\n",
    "- Bag of Words (BoW)\n",
    "- Term Frequency–Inverse Document Frequency (TF-IDF)\n",
    "\n",
    "**Models:**\n",
    "- Latent Semantic Analysis (LSA)\n",
    "- Latent Dirichlet Allocation (LDA)\n",
    "- Hierarchical Dirichlet Process (HDP)\n",
    "- Short Text Topic Modeling (STTM)"
   ]
  },
  {
   "cell_type": "markdown",
   "metadata": {},
   "source": [
    "### Prepare ngrams"
   ]
  },
  {
   "cell_type": "markdown",
   "metadata": {},
   "source": [
    "Before we start modelling, we further clean and tokenise the corpus."
   ]
  },
  {
   "cell_type": "code",
   "execution_count": 53,
   "metadata": {
    "colab": {
     "base_uri": "https://localhost:8080/"
    },
    "id": "ueJXAgCm4Q2W",
    "outputId": "9afe44ee-5c68-47b3-99fa-2184f45722a2"
   },
   "outputs": [],
   "source": [
    "# Get cleaned corpus of tokens/ngrams\n",
    "all_ngrams = preprocess_documents(all_docs, get_ngrams=True, ngram_min_count=5, ngram_threshold=10)"
   ]
  },
  {
   "cell_type": "code",
   "execution_count": 16,
   "metadata": {
    "id": "JI1aAmM5_PQa"
   },
   "outputs": [],
   "source": [
    "pre_ngrams = all_ngrams.reindex(pre_release_posts.index, fill_value=[])\n",
    "post_ngrams = all_ngrams.reindex(post_release_posts.index, fill_value=[])"
   ]
  },
  {
   "cell_type": "markdown",
   "metadata": {},
   "source": [
    "### Creating Features"
   ]
  },
  {
   "cell_type": "markdown",
   "metadata": {},
   "source": [
    "Both Bag-of-Words (BoW) feature and Term Frequency–Inverse Document Frequency(TF-IDF) feature are performed here for initial modelling. Each approach's performances and advantages will be discussed in the latter section to address our model performance and selection."
   ]
  },
  {
   "cell_type": "markdown",
   "metadata": {},
   "source": [
    "#### Bag-of-Words (BoW) "
   ]
  },
  {
   "cell_type": "code",
   "execution_count": 54,
   "metadata": {},
   "outputs": [
    {
     "name": "stdout",
     "output_type": "stream",
     "text": [
      "Number of unique tokens: 7974\n",
      "Number of documents: 340\n"
     ]
    }
   ],
   "source": [
    "# bow representation\n",
    "from sklearn.feature_extraction.text import CountVectorizer\n",
    "\n",
    "bow_dictionary = gensim.corpora.Dictionary(all_ngrams)\n",
    "bow_corpus = [bow_dictionary.doc2bow(doc) for doc in all_ngrams]\n",
    "\n",
    "print('Number of unique tokens: %d' % len(bow_dictionary))\n",
    "print('Number of documents: %d' % len(bow_corpus))"
   ]
  },
  {
   "cell_type": "markdown",
   "metadata": {},
   "source": [
    "#### Term Frequency–Inverse Document Frequency (TF-IDF)\n",
    "Since the frequency is crucial in TF-IDF, the dictionary will be filtered with words that are too rare or too common."
   ]
  },
  {
   "cell_type": "code",
   "execution_count": 55,
   "metadata": {
    "scrolled": true
   },
   "outputs": [
    {
     "name": "stdout",
     "output_type": "stream",
     "text": [
      "Number of unique tokens: 892\n",
      "Number of documents: 340\n"
     ]
    }
   ],
   "source": [
    "# tfidf representation\n",
    "from sklearn.feature_extraction.text import TfidfVectorizer\n",
    "\n",
    "from gensim.corpora import Dictionary\n",
    "# Create a dictionary representation of the documents.\n",
    "tfidf_dictionary = Dictionary(all_ngrams)\n",
    "\n",
    "# Filter out words that are too rare or too common\n",
    "tfidf_dictionary.filter_extremes(no_below=10, no_above=0.9)\n",
    "\n",
    "# Bag-of-words representation of the documents.\n",
    "tfidf_corpus = [tfidf_dictionary.doc2bow(doc) for doc in all_ngrams]\n",
    "\n",
    "print('Number of unique tokens: %d' % len(tfidf_dictionary))\n",
    "print('Number of documents: %d' % len(tfidf_corpus))"
   ]
  },
  {
   "cell_type": "markdown",
   "metadata": {
    "id": "yevNT4Za7x4x"
   },
   "source": [
    "## 3.1 Model Selection"
   ]
  },
  {
   "cell_type": "markdown",
   "metadata": {},
   "source": [
    "### 1) Latent Semantic Analysis (LSA)"
   ]
  },
  {
   "cell_type": "markdown",
   "metadata": {},
   "source": [
    "LSA, also named Latent Semantic Index (LSI), is one of the fundamental techniques of topic modelling. Particularly, it is specialized in analyzing relationships between documents and the terms that they include. It implements fast truncated singular value decomposition (SVD) to decompose a document-word matrix into a document-topic matrix and a topic-word matrix.\n",
    "\n",
    "LSA is especially suitable for large corpora as the SVD decomposition can be updated with new observations at any time for online, incremental, memory-efficient training. Therefore we try to use LSA here to achieve topic modelling.\n",
    "\n",
    "Here we introduce the topic coherence score as the evaluation method. It scores a single topic by measuring the degree of semantic similarity between high-scoring words in the topic. Specifically, we adopt the u_mass score."
   ]
  },
  {
   "cell_type": "markdown",
   "metadata": {},
   "source": [
    "$$\n",
    "\\text { score }_{\\text {UMass }}\\left(w_{i}, w_{j}\\right)=\\log \\frac{D\\left(w_{i}, w_{j}\\right)+\\varepsilon}{D\\left(w_{i}\\right)}\n",
    "$$"
   ]
  },
  {
   "cell_type": "markdown",
   "metadata": {},
   "source": [
    "where $D\\left(w_{i}\\right)$ is the count of documents containing the word $w_{i}$ and $\\left(w_{i}, w_{j}\\right)$ is the count of documents containing both words $w_{i}$ and $w_{j}$. The ε term is added to avoid $log\\left(0\\right)$ evaluation. The best topic coherence value is achieved when the u_mass score is minimised."
   ]
  },
  {
   "cell_type": "markdown",
   "metadata": {},
   "source": [
    "This method is also applied for the following LDA model."
   ]
  },
  {
   "cell_type": "markdown",
   "metadata": {},
   "source": [
    "### LSA model with BoW features"
   ]
  },
  {
   "cell_type": "code",
   "execution_count": 56,
   "metadata": {
    "scrolled": true
   },
   "outputs": [
    {
     "name": "stdout",
     "output_type": "stream",
     "text": [
      "Coherence score of LSA model on BoW is -2.229\n",
      "\n"
     ]
    }
   ],
   "source": [
    "# Build LSA model on BoW\n",
    "bow_lsi_model = gensim.models.lsimodel.LsiModel(\n",
    "   corpus=bow_corpus, id2word=bow_dictionary, num_topics=20,chunksize=100)\n",
    "\n",
    "# Check the coherence value for LSA model on BoW\n",
    "print('Coherence score of LSA model on BoW is {:.3f}\\n'.format(\n",
    "    CoherenceModel(model=bow_lsi_model, texts=all_ngrams, \n",
    "                   dictionary=bow_dictionary, coherence='u_mass').get_coherence()))"
   ]
  },
  {
   "cell_type": "markdown",
   "metadata": {},
   "source": [
    "### LSA model with TF-IDF features"
   ]
  },
  {
   "cell_type": "code",
   "execution_count": 57,
   "metadata": {
    "scrolled": true
   },
   "outputs": [
    {
     "name": "stdout",
     "output_type": "stream",
     "text": [
      "Coherence score of LSA model on TF-idf is -1.220\n",
      "\n"
     ]
    }
   ],
   "source": [
    "# Build LSA model on TF-IDF\n",
    "tfidf_lsi_model = gensim.models.lsimodel.LsiModel(\n",
    "   corpus=tfidf_corpus, id2word=tfidf_dictionary, num_topics=20,chunksize=100)\n",
    "\n",
    "# Check the coherence value for LSA model on TF-IDF\n",
    "print('Coherence score of LSA model on TF-idf is {:.3f}\\n'.format(\n",
    "    CoherenceModel(model=tfidf_lsi_model, texts=all_ngrams,\n",
    "                   dictionary=tfidf_dictionary, coherence='u_mass').get_coherence()))"
   ]
  },
  {
   "cell_type": "markdown",
   "metadata": {},
   "source": [
    "As can be seen, the LSA model with BoW features has a relatively better coherence score. We will further compare LSA with other models."
   ]
  },
  {
   "cell_type": "markdown",
   "metadata": {},
   "source": [
    "### 2) Latent Dirichlet Allocation (LDA)"
   ]
  },
  {
   "cell_type": "markdown",
   "metadata": {},
   "source": [
    "LDA is a kind of unsupervised machine learning technique, playing an important role in topic modelling for classifying text in a document to a topic. It is a generative probabilistic model, or rather, a three-level hierarchical Bayesian model containing word, topic and document. It assumes that a document is a mixture of topics and the presence of a word is attributable to the document's relevant topics. Therefore, it models each document as a Dirichlet distribution of topics and each topic as a Dirichlet distribution of words.\n",
    "\n",
    "Limitations of LDA for this project:\n",
    "1. Non-hierarchical that does not allow sharing data, which might be detrimental considering the limited amount of data.\n",
    "2. Unable to capture the correlation between topics.\n",
    "3. Fixed number of topics and must be understood while building the model. To negate this, we will calculate u_mass scores for a few number of topics and select the best one.\n",
    "4. Either using BoW or TFIDF, LDA cannot identify sentence structure that might alter the topic."
   ]
  },
  {
   "cell_type": "markdown",
   "metadata": {},
   "source": [
    "### LDA model with BoW feature"
   ]
  },
  {
   "cell_type": "code",
   "execution_count": 21,
   "metadata": {},
   "outputs": [],
   "source": [
    "# supporting function\n",
    "def compute_lda_coherence_values(corpus, dictionary, num_topics):\n",
    "    lda_model = LdaModel(corpus=corpus,\n",
    "                                           id2word=dictionary,\n",
    "                                           num_topics=num_topics, \n",
    "                                           random_state=100,\n",
    "                                           chunksize=2000,\n",
    "                                           passes=20,\n",
    "                                           iterations = 400,\n",
    "                                           eval_every=None)\n",
    "    \n",
    "    coherence_model_lda = CoherenceModel(model=lda_model, texts=all_ngrams, dictionary=dictionary, coherence='u_mass')\n",
    "    \n",
    "    return coherence_model_lda.get_coherence()"
   ]
  },
  {
   "cell_type": "code",
   "execution_count": 24,
   "metadata": {},
   "outputs": [],
   "source": [
    "# Topics range\n",
    "final_result = []\n",
    "topics_range = range(2, 11, 1)\n",
    "\n",
    "for i in topics_range:\n",
    "    cv = compute_lda_coherence_values(corpus=bow_corpus, dictionary=bow_dictionary, num_topics=i)\n",
    "    final_result.append(cv)"
   ]
  },
  {
   "cell_type": "code",
   "execution_count": 25,
   "metadata": {},
   "outputs": [
    {
     "data": {
      "image/png": "[encoded data removed]",
      "text/plain": [
       "<Figure size 432x288 with 1 Axes>"
      ]
     },
     "metadata": {
      "needs_background": "light"
     },
     "output_type": "display_data"
    }
   ],
   "source": [
    "x = range(2, 11, 1)\n",
    "plt.plot(x, final_result)\n",
    "plt.xlabel(\"Num Topics\")\n",
    "plt.ylabel(\"U_mass score\")\n",
    "plt.legend((\"u_mass\"), loc='best')\n",
    "plt.show();"
   ]
  },
  {
   "cell_type": "code",
   "execution_count": 26,
   "metadata": {},
   "outputs": [
    {
     "name": "stdout",
     "output_type": "stream",
     "text": [
      "Number of topics 9 with minimum u_mass -1.4944716740305393.\n"
     ]
    }
   ],
   "source": [
    "res = enumerate(final_result, 2)\n",
    "\n",
    "final_num_topics = -1\n",
    "min_umass = 1\n",
    "\n",
    "for x, val in res:\n",
    "    if val < min_umass:\n",
    "        final_num_topics = x\n",
    "        min_umass = val\n",
    "        \n",
    "print(\"Number of topics {} with minimum u_mass {}.\".format(final_num_topics, min_umass))"
   ]
  },
  {
   "cell_type": "code",
   "execution_count": 27,
   "metadata": {},
   "outputs": [
    {
     "name": "stdout",
     "output_type": "stream",
     "text": [
      "Topic: 0 \n",
      "Words: 0.034*\"game\" + 0.010*\"like\" + 0.007*\"time\" + 0.006*\"play\" + 0.006*\"think\" + 0.005*\"people\" + 0.005*\"go\" + 0.004*\"say\" + 0.004*\"npc\" + 0.004*\"know\"\n",
      "Topic: 1 \n",
      "Words: 0.016*\"game\" + 0.010*\"like\" + 0.007*\"go\" + 0.006*\"time\" + 0.006*\"think\" + 0.005*\"way\" + 0.005*\"people\" + 0.005*\"want\" + 0.004*\"know\" + 0.004*\"say\"\n",
      "Topic: 2 \n",
      "Words: 0.035*\"game\" + 0.012*\"like\" + 0.006*\"bug\" + 0.006*\"play\" + 0.006*\"car\" + 0.006*\"ai\" + 0.006*\"think\" + 0.005*\"time\" + 0.005*\"thing\" + 0.005*\"come\"\n",
      "Topic: 3 \n",
      "Words: 0.025*\"game\" + 0.009*\"people\" + 0.008*\"like\" + 0.006*\"time\" + 0.005*\"play\" + 0.005*\"ai\" + 0.004*\"look\" + 0.004*\"think\" + 0.004*\"want\" + 0.004*\"cyberpunk\"\n",
      "Topic: 4 \n",
      "Words: 0.020*\"game\" + 0.007*\"like\" + 0.005*\"release\" + 0.005*\"time\" + 0.004*\"update\" + 0.004*\"people\" + 0.004*\"play\" + 0.004*\"work\" + 0.004*\"fix\" + 0.004*\"get\"\n",
      "Topic: 5 \n",
      "Words: 0.027*\"game\" + 0.007*\"like\" + 0.006*\"time\" + 0.006*\"good\" + 0.005*\"think\" + 0.004*\"know\" + 0.004*\"people\" + 0.004*\"thing\" + 0.004*\"look\" + 0.004*\"shit\"\n",
      "Topic: 6 \n",
      "Words: 0.022*\"game\" + 0.013*\"like\" + 0.006*\"time\" + 0.005*\"think\" + 0.004*\"⠀\" + 0.004*\"people\" + 0.004*\"know\" + 0.004*\"character\" + 0.004*\"play\" + 0.003*\"cdpr\"\n",
      "Topic: 7 \n",
      "Words: 0.017*\"game\" + 0.007*\"like\" + 0.006*\"look\" + 0.006*\"think\" + 0.006*\"go\" + 0.005*\"know\" + 0.005*\"thing\" + 0.005*\"people\" + 0.005*\"v\" + 0.004*\"way\"\n",
      "Topic: 8 \n",
      "Words: 0.024*\"game\" + 0.009*\"like\" + 0.007*\"people\" + 0.006*\"time\" + 0.006*\"v\" + 0.006*\"cyberpunk\" + 0.005*\"get\" + 0.005*\"play\" + 0.005*\"think\" + 0.005*\"release\"\n",
      "Topic: 9 \n",
      "Words: 0.023*\"game\" + 0.008*\"like\" + 0.007*\"cdpr\" + 0.007*\"people\" + 0.006*\"go\" + 0.006*\"good\" + 0.005*\"get\" + 0.005*\"time\" + 0.005*\"play\" + 0.005*\"look\"\n"
     ]
    }
   ],
   "source": [
    "lda_model = LdaModel(bow_corpus, num_topics=10, id2word=bow_dictionary, passes=2)\n",
    "for idx, topic in lda_model.print_topics(-1):\n",
    "    print('Topic: {} \\nWords: {}'.format(idx, topic))"
   ]
  },
  {
   "cell_type": "markdown",
   "metadata": {},
   "source": [
    "### LDA model with TF-IDF feature"
   ]
  },
  {
   "cell_type": "code",
   "execution_count": 28,
   "metadata": {},
   "outputs": [],
   "source": [
    "# Topics range\n",
    "final_result_tfidf = []\n",
    "topics_range = range(2, 11, 1)\n",
    "\n",
    "for i in topics_range:\n",
    "    cv = compute_lda_coherence_values(corpus=tfidf_corpus, dictionary=tfidf_dictionary, num_topics=i)\n",
    "    final_result_tfidf.append(cv)"
   ]
  },
  {
   "cell_type": "code",
   "execution_count": 29,
   "metadata": {},
   "outputs": [
    {
     "name": "stdout",
     "output_type": "stream",
     "text": [
      "Number of topics 8 with minimum u_mass -1.2640427332953.\n"
     ]
    }
   ],
   "source": [
    "res_tfidf = enumerate(final_result_tfidf, 2)\n",
    "\n",
    "final_num_topics_tfidf = -1\n",
    "min_umass_tfidf = 1\n",
    "\n",
    "for x, val in res_tfidf:\n",
    "    if val < min_umass_tfidf:\n",
    "        final_num_topics_tfidf = x\n",
    "        min_umass_tfidf = val\n",
    "        \n",
    "print(\"Number of topics {} with minimum u_mass {}.\".format(final_num_topics_tfidf, min_umass_tfidf))"
   ]
  },
  {
   "cell_type": "code",
   "execution_count": 30,
   "metadata": {
    "scrolled": true
   },
   "outputs": [
    {
     "name": "stdout",
     "output_type": "stream",
     "text": [
      "Topic: 0 Word: 0.037*\"game\" + 0.018*\"time\" + 0.013*\"car\" + 0.012*\"like\" + 0.010*\"good\" + 0.008*\"think\" + 0.007*\"cyberpunk\" + 0.007*\"come\" + 0.007*\"say\" + 0.007*\"people\"\n",
      "Topic: 1 Word: 0.031*\"game\" + 0.015*\"like\" + 0.009*\"guy\" + 0.009*\"go\" + 0.009*\"people\" + 0.008*\"look\" + 0.008*\"think\" + 0.008*\"way\" + 0.008*\"get\" + 0.008*\"play\"\n",
      "Topic: 2 Word: 0.034*\"game\" + 0.023*\"like\" + 0.011*\"time\" + 0.010*\"think\" + 0.008*\"people\" + 0.007*\"want\" + 0.007*\"police\" + 0.007*\"way\" + 0.007*\"thing\" + 0.006*\"kill\"\n",
      "Topic: 3 Word: 0.037*\"game\" + 0.017*\"like\" + 0.012*\"think\" + 0.011*\"people\" + 0.009*\"time\" + 0.009*\"play\" + 0.008*\"go\" + 0.008*\"thing\" + 0.008*\"need\" + 0.007*\"release\"\n",
      "Topic: 4 Word: 0.027*\"game\" + 0.012*\"car\" + 0.011*\"know\" + 0.010*\"get\" + 0.009*\"like\" + 0.009*\"crash\" + 0.009*\"actually\" + 0.009*\"time\" + 0.008*\"think\" + 0.008*\"v\"\n",
      "Topic: 5 Word: 0.033*\"game\" + 0.011*\"like\" + 0.010*\"think\" + 0.010*\"time\" + 0.009*\"cyberpunk\" + 0.008*\"play\" + 0.007*\"way\" + 0.006*\"find\" + 0.006*\"go\" + 0.006*\"character\"\n",
      "Topic: 6 Word: 0.023*\"like\" + 0.022*\"game\" + 0.016*\"people\" + 0.010*\"time\" + 0.009*\"quest\" + 0.008*\"v\" + 0.007*\"thank\" + 0.007*\"mod\" + 0.006*\"well\" + 0.006*\"issue\"\n",
      "Topic: 7 Word: 0.057*\"game\" + 0.014*\"like\" + 0.010*\"people\" + 0.009*\"play\" + 0.009*\"cdpr\" + 0.009*\"go\" + 0.008*\"think\" + 0.008*\"thing\" + 0.008*\"get\" + 0.007*\"time\"\n"
     ]
    }
   ],
   "source": [
    "lda_model_tfidf = LdaModel(tfidf_corpus, num_topics=final_num_topics_tfidf, id2word=tfidf_dictionary, passes=2)\n",
    "for idx, topic in lda_model_tfidf.print_topics(-1):\n",
    "    print('Topic: {} Word: {}'.format(idx, topic))"
   ]
  },
  {
   "cell_type": "code",
   "execution_count": 31,
   "metadata": {},
   "outputs": [
    {
     "data": {
      "image/png": "[encoded data removed]",
      "text/plain": [
       "<Figure size 432x288 with 1 Axes>"
      ]
     },
     "metadata": {
      "needs_background": "light"
     },
     "output_type": "display_data"
    }
   ],
   "source": [
    "x = range(2, 11, 1)\n",
    "plt.plot(x, final_result_tfidf)\n",
    "plt.xlabel(\"Num Topics\")\n",
    "plt.ylabel(\"U_mass\")\n",
    "plt.legend((\"u_mass\"), loc='best')\n",
    "plt.show();"
   ]
  },
  {
   "cell_type": "markdown",
   "metadata": {},
   "source": [
    "### LDA with filtered vocab by TF-IDF"
   ]
  },
  {
   "cell_type": "markdown",
   "metadata": {},
   "source": [
    "To prune the LDA vocabulary, we will calculate the TFIDF score for each word in each document, then sum them across all documents. Using the score, we will only take the words in the top percentile. The result will be a vocabulary contains a list of words with the highest TFIDF scores. This step is deemed necessary to narrow down the words that can be differentiated across documents such that we will have fewer common words shared between the final topics in LDA. It will give us more accurate results of the top words in each topic."
   ]
  },
  {
   "cell_type": "code",
   "execution_count": 32,
   "metadata": {},
   "outputs": [],
   "source": [
    "def filter_vocab(ngrams, min_df=10, max_df=0.9, pct=50):\n",
    "\n",
    "    # compute TFIDF values to narrow down vocabulary\n",
    "    from sklearn.feature_extraction.text import TfidfVectorizer\n",
    "    tfidf_vec = TfidfVectorizer(min_df=min_df, max_df=max_df)\n",
    "    tfidf_ngrams = tfidf_vec.fit_transform(ngrams.astype(str))\n",
    "\n",
    "    # filter top pct percentile of scores\n",
    "    total_tfidf_scores = tfidf_ngrams.sum(axis=0)\n",
    "    cutoff = np.percentile(total_tfidf_scores, pct) # top x% of words by tfidf score\n",
    "    filter = np.squeeze(np.asarray(total_tfidf_scores > cutoff))\n",
    "\n",
    "    # get filtered vocab\n",
    "    feature_names = np.array(tfidf_vec.get_feature_names())\n",
    "    filtered_vocab = feature_names[filter]\n",
    "\n",
    "    return filtered_vocab\n",
    "\n",
    "vocab = filter_vocab(post_ngrams, min_df=2, max_df=0.5, pct=90)"
   ]
  },
  {
   "cell_type": "code",
   "execution_count": 33,
   "metadata": {},
   "outputs": [
    {
     "name": "stdout",
     "output_type": "stream",
     "text": [
      "Number of unique tokens: 337\n",
      "Number of documents: 340\n",
      "Average topic coherence: -1.1118.\n",
      "[([(0.01953076, 'character'),\n",
      "   (0.018807175, 'think'),\n",
      "   (0.01846925, 'look'),\n",
      "   (0.012485135, 'get'),\n",
      "   (0.012190445, 'shit'),\n",
      "   (0.011798884, 'play'),\n",
      "   (0.011610959, 'option'),\n",
      "   (0.011277765, 'good'),\n",
      "   (0.010852532, 'story'),\n",
      "   (0.010339043, 'remember'),\n",
      "   (0.010036586, 'actually'),\n",
      "   (0.009743103, 'cyberpunk'),\n",
      "   (0.009741744, 'change'),\n",
      "   (0.0095429635, 'point'),\n",
      "   (0.00952004, 'thing'),\n",
      "   (0.0094078565, 'add'),\n",
      "   (0.009382396, 'want'),\n",
      "   (0.008740442, 'mission'),\n",
      "   (0.008621284, 'well'),\n",
      "   (0.008549981, 'people')],\n",
      "  -0.9096534776797287),\n",
      " ([(0.032930437, 'cdpr'),\n",
      "   (0.027357541, 'release'),\n",
      "   (0.024008976, 'people'),\n",
      "   (0.01850879, 'want'),\n",
      "   (0.017379994, 'time'),\n",
      "   (0.014670043, 'work'),\n",
      "   (0.014085437, 'say'),\n",
      "   (0.013916803, 'think'),\n",
      "   (0.01265536, 'come'),\n",
      "   (0.012463215, 'thing'),\n",
      "   (0.012350709, 'year'),\n",
      "   (0.012029989, 'get'),\n",
      "   (0.011581855, 'go'),\n",
      "   (0.011498399, 'know'),\n",
      "   (0.011040925, 'good'),\n",
      "   (0.010550022, 'need'),\n",
      "   (0.010510839, 'fix'),\n",
      "   (0.009919463, 'delay'),\n",
      "   (0.009424156, 'feature'),\n",
      "   (0.009269474, 'company')],\n",
      "  -0.9214774933869616),\n",
      " ([(0.030665796, 'cyberpunk'),\n",
      "   (0.03064188, 'people'),\n",
      "   (0.028257152, 'play'),\n",
      "   (0.021037215, 'enjoy'),\n",
      "   (0.017638141, 'get'),\n",
      "   (0.016595248, 'say'),\n",
      "   (0.016156906, 'think'),\n",
      "   (0.016042495, 'go'),\n",
      "   (0.015368252, 'good'),\n",
      "   (0.015357824, 'come'),\n",
      "   (0.01506738, 'year'),\n",
      "   (0.014829795, 'hype'),\n",
      "   (0.013267672, 'love'),\n",
      "   (0.0130242165, 'release'),\n",
      "   (0.012591418, 'bad'),\n",
      "   (0.012318232, 'bug'),\n",
      "   (0.011714735, 'thing'),\n",
      "   (0.010566403, 'expect'),\n",
      "   (0.010414332, 'day'),\n",
      "   (0.010309879, 'fun')],\n",
      "  -0.9557359289604395),\n",
      " ([(0.023406424, 'play'),\n",
      "   (0.017868586, 'people'),\n",
      "   (0.016213527, 'bug'),\n",
      "   (0.015451146, 'look'),\n",
      "   (0.014960202, 'patch'),\n",
      "   (0.01482487, 'run'),\n",
      "   (0.01453289, 'time'),\n",
      "   (0.014275368, 'cyberpunk_2077'),\n",
      "   (0.014204655, 'issue'),\n",
      "   (0.013726447, 'fix'),\n",
      "   (0.013178158, 'go'),\n",
      "   (0.012843461, 'hour'),\n",
      "   (0.012624627, 'good'),\n",
      "   (0.012593911, 'think'),\n",
      "   (0.012280733, 'edit'),\n",
      "   (0.010747046, 'ps4'),\n",
      "   (0.010504087, 'know'),\n",
      "   (0.010263392, 'update'),\n",
      "   (0.010235358, 'crash'),\n",
      "   (0.0102098575, '10')],\n",
      "  -1.0364461748380174),\n",
      " ([(0.021858882, 'way'),\n",
      "   (0.019307226, 'go'),\n",
      "   (0.018902024, 'jackie'),\n",
      "   (0.01583679, 'guy'),\n",
      "   (0.015707944, 'thing'),\n",
      "   (0.015410886, 'right'),\n",
      "   (0.014799016, 'get'),\n",
      "   (0.014621556, 'know'),\n",
      "   (0.013502667, 'mission'),\n",
      "   (0.013099422, 'want'),\n",
      "   (0.011455498, 'good'),\n",
      "   (0.011084661, 'start'),\n",
      "   (0.011001103, 'need'),\n",
      "   (0.010828655, 'say'),\n",
      "   (0.01053378, 'dialogue'),\n",
      "   (0.010489287, 'mod'),\n",
      "   (0.010410992, 'quest'),\n",
      "   (0.0102788815, 'man'),\n",
      "   (0.01007809, 'big'),\n",
      "   (0.0096173845, 'think')],\n",
      "  -1.0442636189839178),\n",
      " ([(0.045293625, 'car'),\n",
      "   (0.025898954, 'police'),\n",
      "   (0.02324786, 'ai'),\n",
      "   (0.019511139, 'drive'),\n",
      "   (0.019277368, 'cop'),\n",
      "   (0.013703597, 'system'),\n",
      "   (0.012637228, 'think'),\n",
      "   (0.01247455, 'shoot'),\n",
      "   (0.012442059, 'way'),\n",
      "   (0.011507244, 'kill'),\n",
      "   (0.010915594, 'mission'),\n",
      "   (0.010653865, 'come'),\n",
      "   (0.010228061, 'open_world'),\n",
      "   (0.010174013, 'bad'),\n",
      "   (0.010141386, 'npc'),\n",
      "   (0.009999856, 'crime'),\n",
      "   (0.009911602, 'spawn'),\n",
      "   (0.009909779, 'city'),\n",
      "   (0.0096904645, 'right'),\n",
      "   (0.00961248, 'turn')],\n",
      "  -1.0918009227771148),\n",
      " ([(0.0397, 'npc'),\n",
      "   (0.030429717, 'time'),\n",
      "   (0.0219006, 'thing'),\n",
      "   (0.021301886, 'car'),\n",
      "   (0.015597892, 'city'),\n",
      "   (0.015486656, 'sleep'),\n",
      "   (0.014791669, 'look'),\n",
      "   (0.014379665, 'go'),\n",
      "   (0.013904952, 'bug'),\n",
      "   (0.012376731, 'ai'),\n",
      "   (0.010819034, 'person'),\n",
      "   (0.010364776, 'run'),\n",
      "   (0.010279639, 'nt'),\n",
      "   (0.010163222, 'actually'),\n",
      "   (0.009637559, 'place'),\n",
      "   (0.009404793, 'model'),\n",
      "   (0.009273907, 'right'),\n",
      "   (0.009244419, 'mean'),\n",
      "   (0.009110282, 'see'),\n",
      "   (0.009039907, 'walk')],\n",
      "  -1.1618257432995456),\n",
      " ([(0.028939608, 'get'),\n",
      "   (0.024605045, 'time'),\n",
      "   (0.022785585, 'fucking'),\n",
      "   (0.021492062, 'night_city'),\n",
      "   (0.019526124, 'trailer'),\n",
      "   (0.017082926, 'cyberpunk_2077'),\n",
      "   (0.016717957, 't_pose'),\n",
      "   (0.01610189, 'npc'),\n",
      "   (0.015061005, 'cool'),\n",
      "   (0.014241105, 'tell'),\n",
      "   (0.01301627, 'set'),\n",
      "   (0.012870929, 'feel'),\n",
      "   (0.0120727485, 'glitch'),\n",
      "   (0.0120130805, 'love'),\n",
      "   (0.011909724, 'good'),\n",
      "   (0.011657346, 'hit'),\n",
      "   (0.0113961445, 'lol'),\n",
      "   (0.010870449, 'gon_na'),\n",
      "   (0.01041705, 'know'),\n",
      "   (0.010279823, 'people')],\n",
      "  -1.196718111778772),\n",
      " ([(0.031623393, 'time'),\n",
      "   (0.024031587, 'panam'),\n",
      "   (0.023500938, 'kill'),\n",
      "   (0.022256304, 'quest'),\n",
      "   (0.02016643, 'know'),\n",
      "   (0.017177708, 'mission'),\n",
      "   (0.01569823, 'think'),\n",
      "   (0.015691845, 'smasher'),\n",
      "   (0.015044343, 'look_like'),\n",
      "   (0.01398986, 'go'),\n",
      "   (0.013690517, 'line'),\n",
      "   (0.013633152, 'thank'),\n",
      "   (0.0134763, 'lol'),\n",
      "   (0.011447019, 'nice'),\n",
      "   (0.011035097, 'guy'),\n",
      "   (0.010669539, 'want'),\n",
      "   (0.009589899, 'car'),\n",
      "   (0.009296172, 'look'),\n",
      "   (0.009203974, 'yeah'),\n",
      "   (0.009075236, 'turn')],\n",
      "  -1.6886260523590795)]\n",
      "U_mass for filtered vocab is -1.0920031007955548\n"
     ]
    }
   ],
   "source": [
    "from gensim.corpora import Dictionary\n",
    "filtered_dictionary = Dictionary.from_documents([vocab]) # build dictionary from filtered vocab by tfidf earlier\n",
    "filtered_corpus = [filtered_dictionary.doc2bow(doc) for doc in all_ngrams]\n",
    "\n",
    "print('Number of unique tokens: %d' % len(filtered_dictionary))\n",
    "print('Number of documents: %d' % len(filtered_corpus))\n",
    "\n",
    "# Train LDA model\n",
    "from gensim.models import LdaModel\n",
    "\n",
    "# Set training parameters.\n",
    "num_topics = 9\n",
    "chunksize = 2000\n",
    "passes = 20\n",
    "iterations = 400\n",
    "eval_every = None  # Don't evaluate model perplexity, takes too much time\n",
    "\n",
    "# Make a index to word dictionary.\n",
    "temp = filtered_dictionary[0]  # This is only to \"load\" the dictionary\n",
    "id2word = filtered_dictionary.id2token\n",
    "\n",
    "model = LdaModel(\n",
    "    corpus=filtered_corpus,\n",
    "    id2word=id2word,\n",
    "    chunksize=chunksize,\n",
    "    alpha='auto',\n",
    "    eta='auto',\n",
    "    iterations=iterations,\n",
    "    num_topics=num_topics,\n",
    "    passes=passes,\n",
    "    eval_every=eval_every\n",
    ")\n",
    "\n",
    "top_topics = model.top_topics(filtered_corpus) \n",
    "\n",
    "# Average topic coherence is the sum of topic coherences of all topics, divided by the number of topics.\n",
    "avg_topic_coherence = sum([t[1] for t in top_topics]) / num_topics\n",
    "print('Average topic coherence: %.4f.' % avg_topic_coherence)\n",
    "\n",
    "pprint(top_topics)\n",
    "\n",
    "coherence_score = CoherenceModel(model=model, texts=post_ngrams, dictionary=filtered_dictionary, coherence='u_mass').get_coherence()\n",
    "print(\"U_mass for filtered vocab is {}\".format(coherence_score))"
   ]
  },
  {
   "cell_type": "markdown",
   "metadata": {},
   "source": [
    "After trying out the pruning method, the u_mass score does not surpass the previous model's performance. Therefore, we will not prune the LDA models."
   ]
  },
  {
   "cell_type": "markdown",
   "metadata": {},
   "source": [
    "### 3) Hierarchical Dirichlet Process (HDP)"
   ]
  },
  {
   "cell_type": "markdown",
   "metadata": {},
   "source": [
    "HDP is a nonparametric Bayesian approach to grouped clustering problems. It is an exntension of LDA. Different from LDA, the number of topics is not a known prior but learned from the dataset. It uses a Dirichlet process to embody the uncertainty in the number of topics, and there is no upper limit on the number of topics. Though HDP may be more complicated to conduct, it is an appropriate model to fit our data because the number of topics containing in the posts and comments is unknown, and it may be unbounded."
   ]
  },
  {
   "cell_type": "markdown",
   "metadata": {},
   "source": [
    "### HDP model with BoW features"
   ]
  },
  {
   "cell_type": "code",
   "execution_count": 34,
   "metadata": {
    "scrolled": true
   },
   "outputs": [
    {
     "name": "stdout",
     "output_type": "stream",
     "text": [
      "[(0,\n",
      "  '0.010*game + 0.004*like + 0.004*time + 0.003*think + 0.003*go + '\n",
      "  '0.003*people + 0.003*cdpr + 0.002*know + 0.002*sony + 0.002*world'),\n",
      " (1,\n",
      "  '0.011*game + 0.004*bug + 0.004*remember + 0.003*play + 0.002*patch + '\n",
      "  '0.002*people + 0.002*review + 0.002*go + 0.002*cyberpunk_2077 + 0.002*say'),\n",
      " (2,\n",
      "  '0.009*game + 0.004*think + 0.003*ai + 0.003*like + 0.002*promise + '\n",
      "  '0.002*say + 0.002*\\\\- + 0.002*people + 0.002*v + 0.002*list'),\n",
      " (3,\n",
      "  '0.014*game + 0.004*people + 0.004*police + 0.003*like + 0.003*cop + '\n",
      "  '0.003*well + 0.003*time + 0.003*come + 0.003*car + 0.003*ai'),\n",
      " (4,\n",
      "  '0.012*game + 0.004*like + 0.003*cdpr + 0.002*issue + 0.002*need + '\n",
      "  '0.002*good + 0.002*release + 0.002*get + 0.002*time + 0.002*way'),\n",
      " (5,\n",
      "  '0.010*game + 0.004*like + 0.002*say + 0.002*want + 0.002*people + '\n",
      "  '0.002*time + 0.002*thing + 0.002*know + 0.002*got + 0.002*go'),\n",
      " (6,\n",
      "  '0.006*game + 0.002*change + 0.002*think + 0.002*like + 0.002*people + '\n",
      "  '0.002*doc + 0.001*need + 0.001*review + 0.001*work + 0.001*feel_like'),\n",
      " (7,\n",
      "  '0.006*game + 0.002*like + 0.002*map + 0.001*m + 0.001*level + 0.001*play + '\n",
      "  '0.001*stop + 0.001*gear + 0.001*stat + 0.001*want'),\n",
      " (8,\n",
      "  '0.005*game + 0.002*car + 0.002*score + 0.002*thing + 0.001*response + '\n",
      "  '0.001*think + 0.001*sound + 0.001*ai + 0.001*city + 0.001*little'),\n",
      " (9,\n",
      "  '0.003*game + 0.001*right + 0.001*go + 0.001*30 + 0.001*bug + 0.001*time + '\n",
      "  '0.001*v + 0.001*persona + 0.001*reproduce + 0.001*play'),\n",
      " (10,\n",
      "  '0.005*game + 0.002*cdpr + 0.002*know + 0.001*pocket + 0.001*people + '\n",
      "  '0.001*member + 0.001*noodle + 0.001*refund + 0.001*ban + 0.001*quest'),\n",
      " (11,\n",
      "  '0.003*game + 0.002*think + 0.001*like + 0.001*kid + 0.001*crash + '\n",
      "  '0.001*love + 0.001*car + 0.001*party + 0.001*fucking + 0.001*sign'),\n",
      " (12,\n",
      "  '0.003*game + 0.002*like + 0.002*trauma_team + 0.001*car + 0.001*come + '\n",
      "  '0.001*gta + 0.001*cyberpunk + 0.001*perspective + 0.001*time + 0.001*cdpr'),\n",
      " (13,\n",
      "  '0.003*game + 0.002*like + 0.001*npc + 0.001*multiplayer + 0.001*guy + '\n",
      "  '0.001*right + 0.001*wtf + 0.001*mortal + 0.001*weaboo + 0.001*know'),\n",
      " (14,\n",
      "  '0.002*game + 0.001*have_blast + 0.001*misinterpret + 0.001*like + '\n",
      "  '0.001*4chan + 0.001*play + 0.001*find + 0.001*neotokyoupgrade + '\n",
      "  '0.001*lifestyle + 0.001*cyberpunk'),\n",
      " (15,\n",
      "  '0.002*game + 0.001*setting + 0.001*buggy + 0.001*trifecta + 0.001*go + '\n",
      "  '0.001*43:00 + 0.001*get + 0.001*finland + 0.001*fps + 0.001*upgradeable'),\n",
      " (16,\n",
      "  '0.004*game + 0.001*release + 0.001*people + 0.001*crisis + 0.001*like + '\n",
      "  '0.001*delay + 0.001*think + 0.001*u/-home + 0.001*walk + 0.001*cop'),\n",
      " (17,\n",
      "  '0.004*game + 0.001*like + 0.001*cyberpunk + 0.001*missold + '\n",
      "  '0.001*open_world + 0.001*saab + 0.001*perricone + 0.001*idk + 0.001*time + '\n",
      "  '0.001*predetermine'),\n",
      " (18,\n",
      "  '0.002*jackie + 0.002*game + 0.001*thing + 0.001*way + 0.001*know + '\n",
      "  '0.001*like + 0.001*mission + 0.001*need + 0.001*good + 0.001*happily'),\n",
      " (19,\n",
      "  '0.002*game + 0.001*rewrote + 0.001*cdpr + 0.001*gene + 0.001*people + '\n",
      "  '0.001*cozy + 0.001*patch + 0.001*civil + 0.001*fable + '\n",
      "  '0.001*underworld1031')]\n"
     ]
    }
   ],
   "source": [
    "# Build HDP model on bow\n",
    "bow_hdp_model = gensim.models.hdpmodel.HdpModel(corpus=bow_corpus, id2word=bow_dictionary)\n",
    "pprint(bow_hdp_model.print_topics())"
   ]
  },
  {
   "cell_type": "markdown",
   "metadata": {},
   "source": [
    "### HDP model with TF-IDF features"
   ]
  },
  {
   "cell_type": "code",
   "execution_count": 35,
   "metadata": {
    "scrolled": true
   },
   "outputs": [
    {
     "name": "stdout",
     "output_type": "stream",
     "text": [
      "[(0,\n",
      "  '0.014*game + 0.007*sad + 0.006*start + 0.006*like + 0.006*2077 + 0.006*gang '\n",
      "  '+ 0.006*people + 0.005*sit + 0.004*good + 0.004*ai'),\n",
      " (1,\n",
      "  '0.015*game + 0.006*care + 0.006*look + 0.005*think + 0.005*cyberpunk_2077 + '\n",
      "  '0.004*people + 0.004*barely + 0.004*maybe + 0.004*love + 0.004*stick'),\n",
      " (2,\n",
      "  '0.015*game + 0.006*like + 0.006*kill + 0.006*let + 0.005*cop + 0.005*come + '\n",
      "  '0.005*hilarious + 0.005*kinda + 0.005*appear + 0.004*police'),\n",
      " (3,\n",
      "  '0.010*game + 0.008*console + 0.007*look + 0.006*air + 0.005*7 + '\n",
      "  '0.005*expect + 0.005*day + 0.005*simply + 0.004*star + 0.004*like'),\n",
      " (4,\n",
      "  '0.008*game + 0.007*suppose + 0.006*like + 0.005*forget + 0.005*hour + '\n",
      "  '0.005*screw + 0.005*cyberpunk + 0.004*well + 0.004*version + '\n",
      "  '0.004*gen_console'),\n",
      " (5,\n",
      "  '0.014*game + 0.007*consider + 0.007*remember + 0.006*sleep + 0.005*target + '\n",
      "  '0.005*enjoy + 0.005*change + 0.005*good + 0.005*stupid + 0.005*million'),\n",
      " (6,\n",
      "  '0.011*game + 0.007*unique + 0.006*literally + 0.006*judy + 0.006*sure + '\n",
      "  '0.005*ai + 0.005*platform + 0.005*complain + 0.005*miss + 0.005*love'),\n",
      " (7,\n",
      "  '0.007*open + 0.006*stop + 0.006*ad + 0.006*enter + 0.006*enjoy + '\n",
      "  '0.005*affect + 0.005*game + 0.005*sell + 0.005*cash + 0.005*fun'),\n",
      " (8,\n",
      "  '0.007*spoiler + 0.006*super + 0.006*well + 0.006*phone + 0.006*constantly + '\n",
      "  '0.006*game + 0.006*small + 0.005*busy + 0.005*thread + 0.005*soon'),\n",
      " (9,\n",
      "  '0.008*fucking + 0.007*50 + 0.006*test + 0.006*fix + 0.005*game + '\n",
      "  '0.005*reality + 0.005*lose + 0.005*middle + 0.005*internet + 0.005*enemy'),\n",
      " (10,\n",
      "  '0.007*sign + 0.006*see + 0.006*awesome + 0.006*aside + 0.005*5 + '\n",
      "  '0.005*100_% + 0.005*remember + 0.005*crime + 0.005*judy + 0.004*probably'),\n",
      " (11,\n",
      "  '0.007*wanna + 0.007*go + 0.006*dude + 0.006*jump + 0.005*johnny + '\n",
      "  '0.005*open_world + 0.005*suit + 0.005*annoying + 0.005*mechanic + '\n",
      "  '0.005*show'),\n",
      " (12,\n",
      "  '0.007*2020 + 0.006*car + 0.006*delamain + 0.006*gta + 0.006*shot + '\n",
      "  '0.006*exact + 0.006*ago + 0.005*add + 0.005*update + 0.005*view'),\n",
      " (13,\n",
      "  '0.007*incredibly + 0.007*free + 0.005*game + 0.005*present + 0.005*death + '\n",
      "  '0.005*funny + 0.005*text + 0.005*upgrade + 0.005*doubt + 0.004*vendor'),\n",
      " (14,\n",
      "  '0.008*despite + 0.008*+ + 0.007*early + 0.006*save + 0.006*post + 0.006*sit '\n",
      "  '+ 0.005*key + 0.005*marketing + 0.005*street + 0.005*lose'),\n",
      " (15,\n",
      "  '0.007*yep + 0.006*pass + 0.006*purpose + 0.006*week + 0.005*ps4 + '\n",
      "  '0.005*store + 0.005*rpg + 0.005*accidentally + 0.005*gta_v + 0.005*run'),\n",
      " (16,\n",
      "  '0.007*game + 0.006*favorite + 0.006*ridiculous + 0.005*steal + 0.005*- + '\n",
      "  '0.005*shadow + 0.005*ncpd + 0.005*bed + 0.005*like + 0.004*pc'),\n",
      " (17,\n",
      "  '0.009*current + 0.007*type + 0.007*bar + 0.007*s + 0.007*thing + '\n",
      "  '0.007*appreciate + 0.006*open + 0.006*shadow + 0.006*world + 0.006*cause'),\n",
      " (18,\n",
      "  '0.011*talk + 0.008*yo + 0.007*reality + 0.007*piece + 0.006*try + 0.006*btw '\n",
      "  '+ 0.006*open + 0.005*imagine + 0.005*ignore + 0.005*fucking'),\n",
      " (19,\n",
      "  '0.012*previous + 0.006*path + 0.006*radio + 0.006*turn + 0.006*personally + '\n",
      "  '0.006*tho + 0.005*ai + 0.005*zero + 0.005*mission + 0.005*fly')]\n"
     ]
    }
   ],
   "source": [
    "# Build HDP model on tfidf\n",
    "tfidf_hdp_model = gensim.models.hdpmodel.HdpModel(corpus=tfidf_corpus, id2word=tfidf_dictionary)\n",
    "pprint(tfidf_hdp_model.print_topics())"
   ]
  },
  {
   "cell_type": "markdown",
   "metadata": {},
   "source": [
    "Since HDP model does not have a comparable evaluation metric like coherence score, we cannot directly compare its performance with the other proposed models and thereby, it will not be the selected model for the following research."
   ]
  },
  {
   "cell_type": "markdown",
   "metadata": {},
   "source": [
    "### 4) Short Text Topic Modeling - GSDMM"
   ]
  },
  {
   "cell_type": "markdown",
   "metadata": {},
   "source": [
    "GSDMM is a unique approach to short text clustering, designed to solve data sparsity due to limited word co-occurrences and display topics like the other topic modelling models. It is essentially a variant LDA. It assumes a document only relates to a single topic, while LDA assumes a document can encompass several topics. Therefore, GSDMM may be an appropriate model in our case, as a post and its comments on Reddit is reasonably likely to relate to a single topic rather than multiple topics. In this case, models that assume there are multiple topics in a document (i.e. a post and its comments) and weigh may be inappropriate due to data sparsity. \n",
    "\n",
    "The package we are using is MovieGroupProcess (mgp), which is based on two rules, completeness and homogeneity. Completeness means that all documents that belong to the same topic must be assigned to the same topic. Homogeneity showcases that only documents that share the same topic should be on the same topic. This logic underlines how STTM method works. "
   ]
  },
  {
   "cell_type": "code",
   "execution_count": 37,
   "metadata": {},
   "outputs": [],
   "source": [
    "import pickle\n",
    "import mgp\n",
    "from tqdm import tqdm\n",
    "\n",
    "# helper functions\n",
    "def top_words(mgp, top_cluster, values):\n",
    "    '''prints the top words in each cluster'''\n",
    "    for cluster in top_cluster:\n",
    "        sort_dicts =sorted(mgp.cluster_word_distribution[cluster].items(), key=lambda k: k[1], reverse=True)[:values]\n",
    "        print('Cluster %s : %s'%(cluster,sort_dicts))\n",
    "        print(' — — — — — — — — —')\n",
    "\n",
    "def cluster_importance(mgp):\n",
    "    '''returns a word-topic matrix[phi] where each value represents\n",
    "    the word importance for that particular cluster;\n",
    "    phi[i][w] would be the importance of word w in topic i.\n",
    "    '''\n",
    "    n_z_w = mgp.cluster_word_distribution\n",
    "    beta, V, K = mgp.beta, mgp.vocab_size, mgp.K\n",
    "    phi = [{} for i in range(K)]\n",
    "    for z in range(K):\n",
    "        for w in n_z_w[z]:\n",
    "            phi[z][w] = (n_z_w[z][w]+beta)/(sum(n_z_w[z].values())+V*beta)\n",
    "    return phi\n",
    "\n",
    "def topic_allocation(df, docs, mgp, topic_dict):\n",
    "    '''allocates all topics to each document in original dataframe,\n",
    "    adding two columns for cluster number and cluster description'''\n",
    "    topic_allocations = []\n",
    "    for doc in tqdm(docs):\n",
    "        topic_label, score = mgp.choose_best_label(doc)\n",
    "        topic_allocations.append(topic_label)\n",
    "\n",
    "    df['cluster'] = topic_allocations\n",
    "\n",
    "    df['topic_name'] = df.cluster.apply(lambda x: get_topic_name(x, topic_dict))\n",
    "    print('Complete. Number of documents with topic allocated: {}'.format(len(df)))\n",
    "\n",
    "def get_topic_name(doc, topic_dict):\n",
    "    '''returns the topic name string value from a dictionary of topics'''\n",
    "    topic_desc = topic_dict[doc]\n",
    "    return topic_desc"
   ]
  },
  {
   "cell_type": "code",
   "execution_count": 38,
   "metadata": {
    "scrolled": true
   },
   "outputs": [
    {
     "name": "stdout",
     "output_type": "stream",
     "text": [
      "In stage 0: transferred 300 clusters with 10 clusters populated\n",
      "In stage 1: transferred 89 clusters with 10 clusters populated\n",
      "In stage 2: transferred 59 clusters with 10 clusters populated\n",
      "In stage 3: transferred 40 clusters with 10 clusters populated\n",
      "In stage 4: transferred 23 clusters with 10 clusters populated\n",
      "In stage 5: transferred 27 clusters with 10 clusters populated\n",
      "In stage 6: transferred 20 clusters with 10 clusters populated\n",
      "In stage 7: transferred 21 clusters with 10 clusters populated\n",
      "In stage 8: transferred 17 clusters with 10 clusters populated\n",
      "In stage 9: transferred 13 clusters with 10 clusters populated\n",
      "In stage 10: transferred 14 clusters with 10 clusters populated\n",
      "In stage 11: transferred 21 clusters with 10 clusters populated\n",
      "In stage 12: transferred 19 clusters with 10 clusters populated\n",
      "In stage 13: transferred 20 clusters with 10 clusters populated\n",
      "In stage 14: transferred 17 clusters with 10 clusters populated\n",
      "In stage 15: transferred 15 clusters with 10 clusters populated\n",
      "In stage 16: transferred 15 clusters with 10 clusters populated\n",
      "In stage 17: transferred 11 clusters with 10 clusters populated\n",
      "In stage 18: transferred 13 clusters with 10 clusters populated\n",
      "In stage 19: transferred 8 clusters with 10 clusters populated\n",
      "In stage 20: transferred 12 clusters with 10 clusters populated\n",
      "In stage 21: transferred 15 clusters with 10 clusters populated\n",
      "In stage 22: transferred 13 clusters with 10 clusters populated\n",
      "In stage 23: transferred 14 clusters with 10 clusters populated\n",
      "In stage 24: transferred 11 clusters with 10 clusters populated\n",
      "In stage 25: transferred 15 clusters with 10 clusters populated\n",
      "In stage 26: transferred 12 clusters with 10 clusters populated\n",
      "In stage 27: transferred 11 clusters with 10 clusters populated\n",
      "In stage 28: transferred 9 clusters with 10 clusters populated\n",
      "In stage 29: transferred 11 clusters with 10 clusters populated\n",
      "Number of documents per topic : [ 17  21  18  28  20  15  22  16  19 164]\n",
      "********************\n",
      "Most important clusters (by number of docs inside): [9 3 6 1 4 8 2 0 7 5]\n",
      "********************\n",
      "Cluster 0 : [('radio', 11), ('game', 10), ('go', 9), ('sleep', 8), ('use', 7), ('like', 7), ('drive', 7), ('v', 6), ('want', 6), ('actually', 6)]\n",
      " — — — — — — — — —\n",
      "Cluster 1 : [('game', 22), ('like', 12), ('car', 10), ('kill', 9), ('way', 8), ('moment', 8), ('get', 7), ('people', 7), ('need', 7), ('find', 6)]\n",
      " — — — — — — — — —\n",
      "Cluster 2 : [('game', 23), ('cyberpunk', 14), ('release', 10), ('good', 9), ('play', 8), ('year', 8), ('come', 8), ('day', 7), ('fun', 7), ('think', 6)]\n",
      " — — — — — — — — —\n",
      "Cluster 3 : [('time', 13), ('think', 10), ('game', 10), ('jackie', 10), ('love', 9), ('look', 9), ('quest', 9), ('good', 8), ('turn', 8), ('like', 8)]\n",
      " — — — — — — — — —\n",
      "Cluster 4 : [('game', 23), ('car', 19), ('time', 16), ('crash', 15), ('panam', 12), ('real', 10), ('think', 10), ('lmao', 9), ('like', 8), ('get', 8)]\n",
      " — — — — — — — — —\n",
      "Cluster 5 : [('game', 20), ('like', 9), ('v', 9), ('character', 9), ('mirror', 9), ('go', 8), ('look', 8), ('hair', 8), ('good', 7), ('light', 7)]\n",
      " — — — — — — — — —\n",
      "Cluster 6 : [('game', 12), ('mod', 11), ('judy', 11), ('post', 10), ('like', 10), ('v', 9), ('samurai', 8), ('2020', 8), ('cyberpunk', 7), ('way', 7)]\n",
      " — — — — — — — — —\n",
      "Cluster 7 : [('game', 19), ('like', 19), ('kid', 10), ('thing', 9), ('time', 8), ('go', 8), ('walk', 8), ('corpo', 8), ('npc', 7), ('city', 7)]\n",
      " — — — — — — — — —\n",
      "Cluster 8 : [('game', 34), ('go', 10), ('look', 9), ('ai', 9), ('like', 7), ('time', 7), ('update', 7), ('delay', 7), ('good', 6), ('get', 6)]\n",
      " — — — — — — — — —\n",
      "Cluster 9 : [('game', 1472), ('like', 535), ('people', 324), ('time', 296), ('think', 284), ('play', 266), ('go', 234), ('cdpr', 230), ('thing', 221), ('get', 211)]\n",
      " — — — — — — — — —\n"
     ]
    }
   ],
   "source": [
    "# train STMM model\n",
    "post_mgp_5 = mgp.MovieGroupProcess(K=10, alpha=0.1, beta=0.1, n_iters=30)\n",
    "y = post_mgp_5.fit(all_ngrams, len(filtered_dictionary))\n",
    "\n",
    "doc_count = np.array(post_mgp_5.cluster_doc_count)\n",
    "print(\"Number of documents per topic :\", doc_count)\n",
    "print(\"*\"*20)\n",
    "# topics sorted by the number of documents they are allocated to\n",
    "top_index = doc_count.argsort()[-10:][::-1]\n",
    "print(\"Most important clusters (by number of docs inside):\",   \n",
    "       top_index)\n",
    "print(\"*\"*20)\n",
    "# show the top 5 words in term frequency for each cluster \n",
    "topic_indices = np.arange(start=0, stop=len(doc_count), step=1)\n",
    "top_words(post_mgp_5, topic_indices, 10)"
   ]
  },
  {
   "cell_type": "markdown",
   "metadata": {},
   "source": [
    "Since STTM does not have an evaluation metric, we will conduct a manual evaluation for this model. While there are some interesting topics from this model like \"t-pose\", a critical bug in the game, and \"Judy\", one of the best characters, the topics are not coherent enough to draw any concrete topics. It also clustered most of the documents into one topic, which seems too generalised to stand as its own topic. One of the possible reasons for it is that STTM performs best for short sentences. The fact that a post and its comments aggregated together might exceed the model's capability threshold. Therefore, we did not select STTM as the finalised modelling approach for pre- and post-release investigation."
   ]
  },
  {
   "cell_type": "markdown",
   "metadata": {},
   "source": [
    "## 3.2 Topic Model Fine Tune and Result Interpretation"
   ]
  },
  {
   "cell_type": "markdown",
   "metadata": {},
   "source": [
    "In this sector, we will seek to optimise and utilise the LSA model on pre and post docs respectively to discover the differences between the general topics before and after the formal release of Cyberpunk. We use the for-loop to find out the best number-of-topics."
   ]
  },
  {
   "cell_type": "markdown",
   "metadata": {},
   "source": [
    "### 1) Pre-Launch Topic Model\n",
    "For pre-launch data, after testing for a number of topics from 5 to 21, it is determined that 17 is the optimal number of topics to minimize the u_mass score of -4.148. From the 17 topics, few main and recurring topics are identified, which are:\n",
    "1. Trailer (is fire)\n",
    "2. Looking forward to playing (in Christmas)\n",
    "3. Day 1 patch (bugs)\n",
    "4. Hype (due to delays)\n",
    "5. Game features (Photo mode & Multiplayer)\"\n",
    "\n",
    "These topics are agreeable as they talk about the games, what they knew at that point and their expectations. On the launch day, some people who purchased the physical copies can already play the game. The day one patch and bug topics may refer to this, as they experienced the game and encountered game-breaking bugs already."
   ]
  },
  {
   "cell_type": "code",
   "execution_count": 39,
   "metadata": {},
   "outputs": [
    {
     "data": {
      "text/plain": [
       "[<matplotlib.lines.Line2D at 0x7f2d823d6070>]"
      ]
     },
     "execution_count": 39,
     "metadata": {},
     "output_type": "execute_result"
    },
    {
     "data": {
      "text/plain": [
       "Text(0.5, 0, 'Num Topics')"
      ]
     },
     "execution_count": 39,
     "metadata": {},
     "output_type": "execute_result"
    },
    {
     "data": {
      "text/plain": [
       "Text(0, 0.5, 'Coherence score')"
      ]
     },
     "execution_count": 39,
     "metadata": {},
     "output_type": "execute_result"
    },
    {
     "data": {
      "text/plain": [
       "<matplotlib.legend.Legend at 0x7f2d830e1c10>"
      ]
     },
     "execution_count": 39,
     "metadata": {},
     "output_type": "execute_result"
    },
    {
     "data": {
      "image/png": "[encoded data removed]",
      "text/plain": [
       "<Figure size 432x288 with 1 Axes>"
      ]
     },
     "metadata": {
      "needs_background": "light"
     },
     "output_type": "display_data"
    }
   ],
   "source": [
    "# bow representation\n",
    "pre_bow_dictionary = gensim.corpora.Dictionary(pre_ngrams)\n",
    "pre_bow_corpus = [pre_bow_dictionary.doc2bow(doc) for doc in pre_ngrams]\n",
    "\n",
    "# Topics range\n",
    "final_result = []\n",
    "topics_range = range(5, 21, 1)\n",
    "\n",
    "for i in topics_range:\n",
    "    # Build LSI model on bow\n",
    "    pre_bow_lsi_model = gensim.models.lsimodel.LsiModel(\n",
    "          corpus=pre_bow_corpus, id2word=pre_bow_dictionary, num_topics=i,chunksize=100)\n",
    "\n",
    "\n",
    "    cv = CoherenceModel(model=pre_bow_lsi_model, texts=pre_ngrams, \n",
    "                   dictionary=pre_bow_dictionary, coherence='u_mass').get_coherence()\n",
    "    \n",
    "    final_result.append(cv)\n",
    "    \n",
    "# Plot num_topics against coherence to choose the best num_topic\n",
    "x = range(5, 21, 1)\n",
    "plt.plot(x, final_result)\n",
    "plt.xlabel(\"Num Topics\")\n",
    "plt.ylabel(\"Coherence score\")\n",
    "plt.legend(\"coherence_values\", loc='best')\n",
    "plt.show();"
   ]
  },
  {
   "cell_type": "code",
   "execution_count": 40,
   "metadata": {
    "scrolled": true
   },
   "outputs": [
    {
     "name": "stdout",
     "output_type": "stream",
     "text": [
      "Coherence score of pre-LSI model on BoW is -4.148\n",
      "\n",
      "[(0,\n",
      "  '0.602*\"game\" + 0.296*\"review\" + 0.269*\"cyberpunk_2077\" + 0.165*\"patch\" + '\n",
      "  '0.162*\"play\" + 0.136*\"10\" + 0.130*\"bug\" + 0.129*\"people\" + 0.123*\"good\" + '\n",
      "  '0.121*\"reviewer\"'),\n",
      " (1,\n",
      "  '0.385*\"people\" + -0.228*\"cyberpunk_2077\" + 0.228*\"like\" + 0.192*\"game\" + '\n",
      "  '0.183*\"want\" + -0.166*\"10\" + -0.158*\"review\" + -0.153*\"patch\" + '\n",
      "  '0.120*\"seizure\" + -0.116*\"bug\"'),\n",
      " (2,\n",
      "  '0.247*\"people\" + -0.242*\"game\" + 0.170*\"cyberpunk_2077\" + -0.164*\"work\" + '\n",
      "  '-0.156*\"review\" + 0.152*\"seizure\" + -0.149*\"release\" + -0.131*\"reviewer\" + '\n",
      "  '-0.118*\"change\" + -0.116*\"footage\"'),\n",
      " (3,\n",
      "  '-0.266*\"review\" + -0.236*\"people\" + 0.212*\"say\" + 0.154*\"get\" + '\n",
      "  '-0.153*\"reviewer\" + 0.143*\"got\" + 0.127*\"want\" + 0.119*\"game\" + 0.111*\"go\" '\n",
      "  '+ 0.111*\"time\"'),\n",
      " (4,\n",
      "  '0.346*\"trailer\" + 0.206*\"time\" + -0.163*\"got\" + -0.160*\"game\" + -0.144*\"go\" '\n",
      "  '+ 0.137*\"hit\" + 0.136*\"world\" + 0.121*\"work\" + -0.121*\"mitsoda\" + '\n",
      "  '-0.121*\"fire\"'),\n",
      " (5,\n",
      "  '-0.173*\"bad\" + 0.171*\"cyberpunk_2077\" + -0.167*\"think\" + -0.160*\"release\" + '\n",
      "  '0.156*\"trailer\" + -0.151*\"sarcasm\" + -0.147*\"hour\" + 0.144*\"people\" + '\n",
      "  '0.117*\"got\" + -0.116*\"cyberpunk\"'),\n",
      " (6,\n",
      "  '-0.293*\"want\" + -0.279*\"bug\" + -0.180*\"patch\" + 0.154*\"hour\" + '\n",
      "  '-0.149*\"day_1\" + 0.133*\"judy\" + -0.122*\"time\" + -0.113*\"bad\" + 0.112*\"game\" '\n",
      "  '+ -0.111*\"expect\"'),\n",
      " (7,\n",
      "  '-0.273*\"sarcasm\" + -0.259*\"good\" + 0.183*\"bug\" + -0.178*\"go\" + 0.155*\"want\" '\n",
      "  '+ 0.123*\"stuff\" + -0.120*\"ending\" + -0.117*\"blind\" + -0.117*\"sarcastic\" + '\n",
      "  '-0.116*\"like\"'),\n",
      " (8,\n",
      "  '0.226*\"post\" + 0.182*\"think\" + 0.178*\"approve\" + 0.176*\"year\" + '\n",
      "  '-0.154*\"sarcasm\" + -0.151*\"hour\" + -0.135*\"bad\" + 0.134*\"come\" + '\n",
      "  '0.131*\"multiplayer\" + 0.124*\"mod\"'),\n",
      " (9,\n",
      "  '0.352*\"approve\" + 0.266*\"post\" + 0.228*\"mod\" + 0.220*\"spoiler\" + '\n",
      "  '-0.175*\"think\" + -0.151*\"multiplayer\" + -0.134*\"year\" + 0.131*\"praise\" + '\n",
      "  '0.113*\"spoil\" + 0.105*\"know\"'),\n",
      " (10,\n",
      "  '-0.258*\"release\" + -0.225*\"delay\" + -0.185*\"hype\" + 0.164*\"think\" + '\n",
      "  '0.151*\"multiplayer\" + -0.149*\"day\" + -0.142*\"3\" + -0.137*\"come\" + '\n",
      "  '-0.134*\"time\" + -0.112*\"right\"'),\n",
      " (11,\n",
      "  '-0.211*\"say\" + -0.204*\"finish\" + -0.198*\"paulo\" + -0.197*\"reason\" + '\n",
      "  '-0.161*\"lol\" + 0.150*\"approve\" + -0.143*\"mike\" + 0.117*\"game\" + '\n",
      "  '-0.115*\"halo\" + 0.114*\"hype\"'),\n",
      " (12,\n",
      "  '0.288*\"finish\" + 0.177*\"lol\" + -0.177*\"like\" + -0.147*\"v\" + 0.140*\"release\" '\n",
      "  '+ -0.128*\"cdpr\" + -0.127*\"gon_na\" + -0.118*\"look\" + -0.114*\"reason\" + '\n",
      "  '0.112*\"get\"'),\n",
      " (13,\n",
      "  '-0.235*\"finish\" + 0.195*\"paulo\" + 0.195*\"cyberpunk\" + -0.185*\"lol\" + '\n",
      "  '0.154*\"ban\" + 0.151*\"message\" + 0.149*\"spoil\" + -0.147*\"like\" + '\n",
      "  '0.119*\"city\" + 0.116*\"thank\"'),\n",
      " (14,\n",
      "  '-0.200*\"reason\" + 0.166*\"paulo\" + 0.152*\"approve\" + 0.141*\"feel\" + '\n",
      "  '0.132*\"v\" + 0.131*\"finish\" + -0.130*\"message\" + -0.130*\"ban\" + 0.130*\"look\" '\n",
      "  '+ 0.117*\"fuck\"'),\n",
      " (15,\n",
      "  '-0.259*\"v\" + -0.185*\"photo_mode\" + 0.182*\"paulo\" + -0.130*\"cdpr\" + '\n",
      "  '-0.126*\"look\" + -0.123*\"finish\" + -0.123*\"character\" + -0.116*\"gon_na\" + '\n",
      "  '-0.115*\"oh\" + 0.111*\"like\"'),\n",
      " (16,\n",
      "  '-0.236*\"christmas\" + -0.219*\"look_forward\" + -0.198*\"year\" + '\n",
      "  '-0.191*\"christma\" + -0.170*\"lot\" + -0.158*\"post\" + -0.153*\"play\" + '\n",
      "  '0.149*\"release\" + -0.133*\"day\" + 0.119*\"delay\"')]\n"
     ]
    }
   ],
   "source": [
    "# Build LSI model on bow\n",
    "pre_bow_lsi_model = gensim.models.lsimodel.LsiModel(\n",
    "   corpus=pre_bow_corpus, id2word=pre_bow_dictionary, num_topics=17,chunksize=100)\n",
    "\n",
    "# Check the coherence value for LSI model on bow\n",
    "print('Coherence score of pre-LSI model on BoW is {:.3f}\\n'.format(\n",
    "    CoherenceModel(model=pre_bow_lsi_model, texts=pre_ngrams, \n",
    "                   dictionary=pre_bow_dictionary, coherence='u_mass').get_coherence()))\n",
    "\n",
    "# Print out the model\n",
    "pprint(pre_bow_lsi_model.print_topics())"
   ]
  },
  {
   "cell_type": "markdown",
   "metadata": {},
   "source": [
    "### 2) Post-Launch Topic Model\n",
    "For pre-launch data, after testing for a number of topics from 5 to 21, it is determined that 16 is the optimal number of topics to minimize the u_mass score of -2.577. From the 16 topics, few main and recurring topics are identified, which are:\n",
    "1. Sony refunds\n",
    "2. CDPR apology\n",
    "3. Police AI (very bad)\n",
    "4. Open world is a mess\n",
    "5. Constant bugs\n",
    "6. Frame drops\n",
    "7. Expectation and promise\n",
    "\n",
    "These topics are agreeable as well, because the game was unplayable for some consoles. They also attack the company, saying they built high expectation and blatantly lie at some points in their trailer and press conference. 'Sony pulled out the game out of PS Store' was also the headlines of many news articles, so it makes sense that there is a topic for it. Despite this, some topics still give positive vibes because some can play and enjoy the game."
   ]
  },
  {
   "cell_type": "code",
   "execution_count": 41,
   "metadata": {},
   "outputs": [
    {
     "data": {
      "text/plain": [
       "[<matplotlib.lines.Line2D at 0x7f2d82ea1070>]"
      ]
     },
     "execution_count": 41,
     "metadata": {},
     "output_type": "execute_result"
    },
    {
     "data": {
      "text/plain": [
       "Text(0.5, 0, 'Num Topics')"
      ]
     },
     "execution_count": 41,
     "metadata": {},
     "output_type": "execute_result"
    },
    {
     "data": {
      "text/plain": [
       "Text(0, 0.5, 'Coherence score')"
      ]
     },
     "execution_count": 41,
     "metadata": {},
     "output_type": "execute_result"
    },
    {
     "data": {
      "text/plain": [
       "<matplotlib.legend.Legend at 0x7f2d853c3940>"
      ]
     },
     "execution_count": 41,
     "metadata": {},
     "output_type": "execute_result"
    },
    {
     "data": {
      "image/png": "[encoded data removed]",
      "text/plain": [
       "<Figure size 432x288 with 1 Axes>"
      ]
     },
     "metadata": {
      "needs_background": "light"
     },
     "output_type": "display_data"
    }
   ],
   "source": [
    "# bow representation\n",
    "post_bow_dictionary = gensim.corpora.Dictionary(post_ngrams)\n",
    "post_bow_corpus = [post_bow_dictionary.doc2bow(doc) for doc in post_ngrams]\n",
    "\n",
    "# Topics range\n",
    "final_result = []\n",
    "topics_range = range(5, 21, 1)\n",
    "\n",
    "for i in topics_range:\n",
    "    # Build LSI model on bow\n",
    "    post_bow_lsi_model = gensim.models.lsimodel.LsiModel(\n",
    "          corpus=post_bow_corpus, id2word=post_bow_dictionary, num_topics=i,chunksize=100)\n",
    "\n",
    "\n",
    "    cv = CoherenceModel(model=post_bow_lsi_model, texts=post_ngrams, \n",
    "                   dictionary=post_bow_dictionary, coherence='u_mass').get_coherence()\n",
    "    \n",
    "    final_result.append(cv)\n",
    "    \n",
    "# Plot num_topics against coherence to choose the best num_topic\n",
    "x = range(5, 21, 1)\n",
    "plt.plot(x, final_result)\n",
    "plt.xlabel(\"Num Topics\")\n",
    "plt.ylabel(\"Coherence score\")\n",
    "plt.legend(\"coherence_values\", loc='best')\n",
    "plt.show();"
   ]
  },
  {
   "cell_type": "code",
   "execution_count": 42,
   "metadata": {
    "scrolled": true
   },
   "outputs": [
    {
     "name": "stdout",
     "output_type": "stream",
     "text": [
      "Coherence score of post-LSI model on BoW is -2.577\n",
      "\n",
      "[(0,\n",
      "  '0.701*\"game\" + 0.197*\"like\" + 0.155*\"people\" + 0.152*\"cdpr\" + 0.121*\"play\" '\n",
      "  '+ 0.108*\"time\" + 0.107*\"think\" + 0.096*\"go\" + 0.096*\"release\" + '\n",
      "  '0.093*\"get\"'),\n",
      " (1,\n",
      "  '-0.381*\"cdpr\" + -0.341*\"sony\" + -0.289*\"refund\" + 0.146*\"like\" + '\n",
      "  '-0.128*\"people\" + -0.128*\"release\" + -0.120*\"know\" + 0.115*\"mission\" + '\n",
      "  '0.112*\"car\" + 0.112*\"character\"'),\n",
      " (2,\n",
      "  '-0.294*\"game\" + 0.209*\"x200b\" + 0.198*\"file\" + 0.186*\"fps\" + 0.169*\"gb\" + '\n",
      "  '0.154*\"go\" + 0.150*\"post\" + 0.141*\"mb\" + 0.134*\"use\" + 0.123*\"people\"'),\n",
      " (3,\n",
      "  '-0.218*\"sony\" + 0.211*\"play\" + 0.165*\"look\" + -0.148*\"cdpr\" + 0.148*\"run\" + '\n",
      "  '-0.148*\"mission\" + 0.141*\"pc\" + 0.139*\"ps4\" + -0.136*\"like\" + 0.133*\"game\"'),\n",
      " (4,\n",
      "  '-0.166*\"car\" + -0.162*\"like\" + -0.159*\"sony\" + -0.155*\"look\" + '\n",
      "  '0.142*\"apology\" + 0.140*\"quest\" + -0.139*\"time\" + 0.126*\"feature\" + '\n",
      "  '-0.120*\"fucking\" + 0.120*\"promise\"'),\n",
      " (5,\n",
      "  '-0.356*\"car\" + -0.299*\"ai\" + -0.196*\"police\" + -0.191*\"cop\" + '\n",
      "  '0.151*\"character\" + 0.142*\"look\" + 0.140*\"ps4\" + 0.139*\"play\" + '\n",
      "  '-0.126*\"chase\" + 0.123*\"expect\"'),\n",
      " (6,\n",
      "  '-0.184*\"know\" + 0.164*\"like\" + -0.163*\"run\" + -0.157*\"quest\" + 0.155*\"say\" '\n",
      "  '+ -0.147*\"car\" + 0.134*\"issue\" + -0.129*\"refund\" + 0.122*\"thing\" + '\n",
      "  '0.113*\"release\"'),\n",
      " (7,\n",
      "  '0.209*\"fix\" + 0.198*\"crunch\" + 0.170*\"work\" + 0.160*\"feature\" + '\n",
      "  '0.156*\"cost\" + -0.151*\"video\" + 0.128*\"edit\" + 0.127*\"say\" + -0.123*\"try\" + '\n",
      "  '0.120*\"time\"'),\n",
      " (8,\n",
      "  '0.212*\"time\" + -0.194*\"police\" + -0.162*\"ai\" + 0.156*\"quest\" + '\n",
      "  '0.148*\"think\" + -0.140*\"system\" + 0.125*\"like\" + -0.111*\"cop\" + '\n",
      "  '-0.111*\"key\" + 0.104*\"change\"'),\n",
      " (9,\n",
      "  '0.181*\"time\" + -0.175*\"think\" + -0.169*\"promise\" + -0.141*\"people\" + '\n",
      "  '-0.135*\"police\" + 0.129*\"like\" + -0.117*\"rpg\" + 0.113*\"npc\" + -0.112*\"hour\" '\n",
      "  '+ -0.108*\"expect\"'),\n",
      " (10,\n",
      "  '-0.201*\"⠀\" + 0.161*\"game\" + -0.145*\"nomad\" + -0.137*\"hour\" + '\n",
      "  '0.125*\"customization\" + -0.122*\"mission\" + -0.121*\"know\" + 0.117*\"year\" + '\n",
      "  '-0.114*\"say\" + -0.113*\"v\"'),\n",
      " (11,\n",
      "  '0.519*\"⠀\" + 0.250*\"⠀_⠀\" + 0.154*\"⠉\" + 0.135*\"⣿\" + -0.117*\"hour\" + '\n",
      "  '0.116*\"look\" + -0.113*\"game\" + -0.097*\"story\" + 0.096*\"⣀\" + 0.096*\"⠋\"'),\n",
      " (12,\n",
      "  '-0.367*\"⠀\" + -0.177*\"⠀_⠀\" + 0.156*\"open_world\" + 0.127*\"shit\" + '\n",
      "  '-0.127*\"game\" + 0.125*\"look\" + 0.110*\"like\" + -0.109*\"⠉\" + 0.108*\"gta_v\" + '\n",
      "  '0.105*\"quest\"'),\n",
      " (13,\n",
      "  '-0.234*\"car\" + 0.183*\"⠀\" + -0.165*\"time\" + -0.155*\"get\" + 0.149*\"game\" + '\n",
      "  '-0.134*\"npc\" + -0.123*\"think\" + -0.119*\"ps4\" + 0.117*\"cop\" + -0.115*\"need\"'),\n",
      " (14,\n",
      "  '0.159*\"e.g.\" + 0.147*\"cdpr\" + 0.140*\"nomad\" + 0.135*\"release\" + '\n",
      "  '0.134*\"police\" + 0.126*\"change\" + 0.126*\"issue\" + 0.116*\"review\" + '\n",
      "  '-0.114*\"thing\" + -0.114*\"promise\"'),\n",
      " (15,\n",
      "  '-0.213*\"car\" + 0.196*\"bug\" + 0.194*\"e.g.\" + 0.174*\"like\" + '\n",
      "  '-0.153*\"cyberpunk\" + 0.141*\"ai\" + -0.124*\"good\" + 0.122*\"remember\" + '\n",
      "  '0.121*\"quest\" + 0.113*\"police\"')]\n"
     ]
    }
   ],
   "source": [
    "# Build LSA model on bow\n",
    "post_bow_lsi_model = gensim.models.lsimodel.LsiModel(\n",
    "   corpus=post_bow_corpus, id2word=post_bow_dictionary, num_topics=16,chunksize=100)\n",
    "\n",
    "# Check the coherence value for LSI model on bow\n",
    "print('Coherence score of post-LSI model on BoW is {:.3f}\\n'.format(\n",
    "    CoherenceModel(model=post_bow_lsi_model, texts=post_ngrams, \n",
    "                   dictionary=post_bow_dictionary, coherence='u_mass').get_coherence()))\n",
    "\n",
    "# Print out the model\n",
    "pprint(post_bow_lsi_model.print_topics())"
   ]
  },
  {
   "cell_type": "markdown",
   "metadata": {},
   "source": [
    "# 4. Sentiment Analysis"
   ]
  },
  {
   "cell_type": "markdown",
   "metadata": {},
   "source": [
    "The topic modelling results indicate that there may have been a switch in the sentiments across periods. In this sector, we will apply sentiment analytics to identify Reddit users' sentiments towards the game pre- and post- launch to further justify the transition."
   ]
  },
  {
   "cell_type": "markdown",
   "metadata": {},
   "source": [
    "## 4.1 Pipeline\n",
    "We will utilize the transformers package for the sentiment analysis pipeline. By default, it is using the DistilBERT model. Due to the fact that the analysis will be conducted on aggregated result of the post and its comments, some documents are too long for the package to do sentiment analysis properly, as it will return an error. To counter this, we will catch the error and label these instances as \"UNPREDICTABLE\" for better transparency. \n",
    "\n",
    "Due to time limitation, proper labelling for sentiment analysis on the documents has not been done so we cannot determine the accuracy of the sentiment analysis."
   ]
  },
  {
   "cell_type": "code",
   "execution_count": 43,
   "metadata": {},
   "outputs": [],
   "source": [
    "def process_sentiment(doc):\n",
    "    return doc.lower().replace(\"cyberpunk\", \"it\")"
   ]
  },
  {
   "cell_type": "code",
   "execution_count": 44,
   "metadata": {},
   "outputs": [
    {
     "data": {
      "application/vnd.jupyter.widget-view+json": {
       "model_id": "63a49e02ab794609925100934cf4b6f6",
       "version_major": 2,
       "version_minor": 0
      },
      "text/plain": [
       "HBox(children=(FloatProgress(value=0.0, description='Downloading', max=629.0, style=ProgressStyle(description_…"
      ]
     },
     "metadata": {},
     "output_type": "display_data"
    },
    {
     "name": "stdout",
     "output_type": "stream",
     "text": [
      "\n"
     ]
    },
    {
     "data": {
      "application/vnd.jupyter.widget-view+json": {
       "model_id": "3c0eb3e61f964cdfb2bc32fa66ae5f46",
       "version_major": 2,
       "version_minor": 0
      },
      "text/plain": [
       "HBox(children=(FloatProgress(value=0.0, description='Downloading', max=267844284.0, style=ProgressStyle(descri…"
      ]
     },
     "metadata": {},
     "output_type": "display_data"
    },
    {
     "name": "stdout",
     "output_type": "stream",
     "text": [
      "\n"
     ]
    },
    {
     "data": {
      "application/vnd.jupyter.widget-view+json": {
       "model_id": "72eaed141d80446696e4ac8c123bfcf5",
       "version_major": 2,
       "version_minor": 0
      },
      "text/plain": [
       "HBox(children=(FloatProgress(value=0.0, description='Downloading', max=231508.0, style=ProgressStyle(descripti…"
      ]
     },
     "metadata": {},
     "output_type": "display_data"
    },
    {
     "name": "stdout",
     "output_type": "stream",
     "text": [
      "\n"
     ]
    },
    {
     "data": {
      "application/vnd.jupyter.widget-view+json": {
       "model_id": "b683adaad66b418ab8203571ad17f484",
       "version_major": 2,
       "version_minor": 0
      },
      "text/plain": [
       "HBox(children=(FloatProgress(value=0.0, description='Downloading', max=48.0, style=ProgressStyle(description_w…"
      ]
     },
     "metadata": {},
     "output_type": "display_data"
    },
    {
     "name": "stdout",
     "output_type": "stream",
     "text": [
      "\n"
     ]
    }
   ],
   "source": [
    "sentiment_analysis = pipeline(\"sentiment-analysis\")"
   ]
  },
  {
   "cell_type": "code",
   "execution_count": 45,
   "metadata": {},
   "outputs": [],
   "source": [
    "def get_sentiments(docs):\n",
    "    sentiments = []\n",
    "    for body in docs:\n",
    "        try:\n",
    "            sent = sentiment_analysis(body)[0]\n",
    "            sentiments.append(sent['label'])\n",
    "        except:\n",
    "            sentiments.append(\"UNPREDICTABLE\")\n",
    "    return sentiments"
   ]
  },
  {
   "cell_type": "markdown",
   "metadata": {},
   "source": [
    "## 4.2 Pre-Launch Sentiment Analysis"
   ]
  },
  {
   "cell_type": "code",
   "execution_count": 46,
   "metadata": {},
   "outputs": [
    {
     "name": "stderr",
     "output_type": "stream",
     "text": [
      "Token indices sequence length is longer than the specified maximum sequence length for this model (909 > 512). Running this sequence through the model will result in indexing errors\n"
     ]
    }
   ],
   "source": [
    "pre_sentiments = get_sentiments(pre_release_docs)\n",
    "\n",
    "message = pd.DataFrame(pre_release_docs)\n",
    "pre_docs_sentiment = pd.DataFrame({\"label\":pre_sentiments,\"docs\":message[0]})"
   ]
  },
  {
   "cell_type": "code",
   "execution_count": 47,
   "metadata": {},
   "outputs": [
    {
     "data": {
      "text/html": [
       "<div>\n",
       "<style scoped>\n",
       "    .dataframe tbody tr th:only-of-type {\n",
       "        vertical-align: middle;\n",
       "    }\n",
       "\n",
       "    .dataframe tbody tr th {\n",
       "        vertical-align: top;\n",
       "    }\n",
       "\n",
       "    .dataframe thead th {\n",
       "        text-align: right;\n",
       "    }\n",
       "</style>\n",
       "<table border=\"1\" class=\"dataframe\">\n",
       "  <thead>\n",
       "    <tr style=\"text-align: right;\">\n",
       "      <th></th>\n",
       "      <th>label</th>\n",
       "      <th>docs</th>\n",
       "    </tr>\n",
       "  </thead>\n",
       "  <tbody>\n",
       "    <tr>\n",
       "      <th>jnqd7l</th>\n",
       "      <td>NEGATIVE</td>\n",
       "      <td>A story of spaghetti with the CP team. Will update if I find out. \\*insert yellow\\*\\n\\nHey spaghetti lovers,\\n\\nToday, we decided..... \"The game's coming out soon now right?\"\\n\\n\"Too soon to say\" Can you insert your entire dick into the spaghetti and twirl it in a circular motion, akin to twirling it on your spoon with a fork?  \\n\\nIf not, what's the point of having a huge dick? Give us dick spaghetti CDPR. youll get your spaghetti when you fix this damn delay Introducing the olive garden cd...</td>\n",
       "    </tr>\n",
       "    <tr>\n",
       "      <th>k2mf2n</th>\n",
       "      <td>POSITIVE</td>\n",
       "      <td>Blade Runner is my favorite movie. This means a lot coming from my future favorite game. I should probably watch Blade Runner huh Ana de armas.......sweet jesus. Have you ever read \"Do Androids Dream of Electric Sheep?\"   Philip K Dick is a master craftsman haunted by his own genuis. Both Blade Runners and i would also recommend Dredd 2012. Dredd 2012 is such a great movie.  So much fun.  I put the 4k blu ray on my christmas list, even though I already have it on streaming.</td>\n",
       "    </tr>\n",
       "    <tr>\n",
       "      <th>jlvmmt</th>\n",
       "      <td>NEGATIVE</td>\n",
       "      <td>Ubisoft after hearing about Cyberpunk 2077 delay When did Techno Viking 2.0 come out? I’m excited for both games so I’m glad there’s space between them for me to enjoy both comfortably!\\n\\nWould’ve preferred Cyberpunk first but oh well, gotta save the best for last. Yeah for real. What’s the source of this clip? Part of a Promo video of ubisoft and german cosplayers.\\nEivor is known as Maul Cosplay and the one on the right is part of Lightning Cosplay if I'm not mistaken.</td>\n",
       "    </tr>\n",
       "    <tr>\n",
       "      <th>jndjfw</th>\n",
       "      <td>POSITIVE</td>\n",
       "      <td>Actual Color of the Year Could also be nvidia unobtainable green\\n\\nOr ryzen red.\\n\\nIt’s a good time to be almost ready to game R: 253   G: 249   B: 1\\n\\nHEX: #fdf901</td>\n",
       "    </tr>\n",
       "    <tr>\n",
       "      <th>ka03bp</th>\n",
       "      <td>POSITIVE</td>\n",
       "      <td>Guys have fun tonight with the game because I got another unexpected delay.Today I’ve been hospitalized with some kind of liver infection and it looks it will take a while to recover.\\n\\nDid the preload on Monday but it seems like 2020 still hitting hard on me.\\n\\nJust wanted to wish you all a joyful experience with all the envy of my heart. Give Judy the big hug she deserves.\\n\\nAnd remember to always cook your steaks well.\\n\\nPS. Wanted to post the obligatory selfie but it seems images hav...</td>\n",
       "    </tr>\n",
       "  </tbody>\n",
       "</table>\n",
       "</div>"
      ],
      "text/plain": [
       "           label  \\\n",
       "jnqd7l  NEGATIVE   \n",
       "k2mf2n  POSITIVE   \n",
       "jlvmmt  NEGATIVE   \n",
       "jndjfw  POSITIVE   \n",
       "ka03bp  POSITIVE   \n",
       "\n",
       "                                                                                                                                                                                                                                                                                                                                                                                                                                                                                                                       docs  \n",
       "jnqd7l  A story of spaghetti with the CP team. Will update if I find out. \\*insert yellow\\*\\n\\nHey spaghetti lovers,\\n\\nToday, we decided..... \"The game's coming out soon now right?\"\\n\\n\"Too soon to say\" Can you insert your entire dick into the spaghetti and twirl it in a circular motion, akin to twirling it on your spoon with a fork?  \\n\\nIf not, what's the point of having a huge dick? Give us dick spaghetti CDPR. youll get your spaghetti when you fix this damn delay Introducing the olive garden cd...  \n",
       "k2mf2n                       Blade Runner is my favorite movie. This means a lot coming from my future favorite game. I should probably watch Blade Runner huh Ana de armas.......sweet jesus. Have you ever read \"Do Androids Dream of Electric Sheep?\"   Philip K Dick is a master craftsman haunted by his own genuis. Both Blade Runners and i would also recommend Dredd 2012. Dredd 2012 is such a great movie.  So much fun.  I put the 4k blu ray on my christmas list, even though I already have it on streaming.  \n",
       "jlvmmt                         Ubisoft after hearing about Cyberpunk 2077 delay When did Techno Viking 2.0 come out? I’m excited for both games so I’m glad there’s space between them for me to enjoy both comfortably!\\n\\nWould’ve preferred Cyberpunk first but oh well, gotta save the best for last. Yeah for real. What’s the source of this clip? Part of a Promo video of ubisoft and german cosplayers.\\nEivor is known as Maul Cosplay and the one on the right is part of Lightning Cosplay if I'm not mistaken.  \n",
       "jndjfw                                                                                                                                                                                                                                                                                                                                              Actual Color of the Year Could also be nvidia unobtainable green\\n\\nOr ryzen red.\\n\\nIt’s a good time to be almost ready to game R: 253   G: 249   B: 1\\n\\nHEX: #fdf901  \n",
       "ka03bp  Guys have fun tonight with the game because I got another unexpected delay.Today I’ve been hospitalized with some kind of liver infection and it looks it will take a while to recover.\\n\\nDid the preload on Monday but it seems like 2020 still hitting hard on me.\\n\\nJust wanted to wish you all a joyful experience with all the envy of my heart. Give Judy the big hug she deserves.\\n\\nAnd remember to always cook your steaks well.\\n\\nPS. Wanted to post the obligatory selfie but it seems images hav...  "
      ]
     },
     "execution_count": 47,
     "metadata": {},
     "output_type": "execute_result"
    }
   ],
   "source": [
    "pre_docs_sentiment.tail(5)"
   ]
  },
  {
   "cell_type": "markdown",
   "metadata": {},
   "source": [
    "Contrary to the expectation, the number of negative sentiment posts is double that of positive posts. Sampling some negative posts with post ID k7y448 and k6pvud, it is apparent that the model cannot accurately predict sarcasm and self-deprecating jokes, which are prevalent in Reddit."
   ]
  },
  {
   "cell_type": "code",
   "execution_count": 48,
   "metadata": {},
   "outputs": [
    {
     "name": "stdout",
     "output_type": "stream",
     "text": [
      "The first trailer for Cyberpunk 2077 came out when I was in fourth grade. Today, I submitted my last college application and finally let myself preorder the gameI've known about the game for a while, and let me tell you, I'm more than excited to get my hands on it. I've been using this game to get myself through my senior year of high school and my college applications, and after finishing my final application today, my parents agreed to let me get the game. I never dreamed I'd be able to play the game on release, and here we are. Thrilled to be sharing this experience with you guys, and just wanted to share it :) I was in 6th grade... Today I’m procrastinating my college work, watching Netflix and I have to work in 3 hours. Posts like this make me feel old despite the fact I’m 23. When the first announcement happened, I was a single celled organism. Now I'm a sun about to supernova. Amazing how time flies eh? Can we stop these posts now. Yes we've all aged 8 years since 2012.  Let's move on already. Same I was in 6th grade as well, just got out for Christmas break from my college >Posts like this make me feel old\n",
      "\n",
      "Fucking tell me about it\n",
      "\n",
      ">despite the fact I'm 23\n",
      "\n",
      "... fuck [deleted]\n",
      "Almost there...... My grandma was married with two kids at my age, my parents were just married at my age, and here I am a single virgin waiting for this game I’m 40 with two kids, I’m still counting the days down to CyberPunk. Yeah but did they have Cyberpunk?\n"
     ]
    }
   ],
   "source": [
    "print(pre_docs_sentiment.loc['k7y448']['docs'])\n",
    "print(pre_docs_sentiment.loc['k6pvud']['docs'])"
   ]
  },
  {
   "cell_type": "code",
   "execution_count": 49,
   "metadata": {},
   "outputs": [
    {
     "data": {
      "text/plain": [
       "NEGATIVE         36\n",
       "POSITIVE         18\n",
       "UNPREDICTABLE     9\n",
       "Name: label, dtype: int64"
      ]
     },
     "execution_count": 49,
     "metadata": {},
     "output_type": "execute_result"
    }
   ],
   "source": [
    "pre_docs_sentiment['label'].value_counts()"
   ]
  },
  {
   "cell_type": "code",
   "execution_count": 50,
   "metadata": {},
   "outputs": [
    {
     "data": {
      "image/png": "[encoded data removed]",
      "text/plain": [
       "<Figure size 432x288 with 1 Axes>"
      ]
     },
     "metadata": {
      "needs_background": "light"
     },
     "output_type": "display_data"
    }
   ],
   "source": [
    "ax = sns.countplot(x=\"label\", data=pre_docs_sentiment,\n",
    "                   order = pre_docs_sentiment['label'].value_counts().index,\n",
    "                   palette=dict(NEGATIVE=\"lightblue\", POSITIVE=\"lightpink\", UNPREDICTABLE=\"lightgreen\"))"
   ]
  },
  {
   "cell_type": "markdown",
   "metadata": {},
   "source": [
    "## 4.3 Post-Launch Sentiment Analysis"
   ]
  },
  {
   "cell_type": "code",
   "execution_count": 51,
   "metadata": {},
   "outputs": [],
   "source": [
    "post_sentiments = get_sentiments(post_release_docs)\n",
    "\n",
    "message = pd.DataFrame(post_release_docs)\n",
    "post_docs_sentiment = pd.DataFrame({\"label\":post_sentiments,\"docs\":message[0]})"
   ]
  },
  {
   "cell_type": "code",
   "execution_count": 52,
   "metadata": {},
   "outputs": [
    {
     "data": {
      "text/html": [
       "<div>\n",
       "<style scoped>\n",
       "    .dataframe tbody tr th:only-of-type {\n",
       "        vertical-align: middle;\n",
       "    }\n",
       "\n",
       "    .dataframe tbody tr th {\n",
       "        vertical-align: top;\n",
       "    }\n",
       "\n",
       "    .dataframe thead th {\n",
       "        text-align: right;\n",
       "    }\n",
       "</style>\n",
       "<table border=\"1\" class=\"dataframe\">\n",
       "  <thead>\n",
       "    <tr style=\"text-align: right;\">\n",
       "      <th></th>\n",
       "      <th>label</th>\n",
       "      <th>docs</th>\n",
       "    </tr>\n",
       "  </thead>\n",
       "  <tbody>\n",
       "    <tr>\n",
       "      <th>kdnrxb</th>\n",
       "      <td>UNPREDICTABLE</td>\n",
       "      <td>Undoubtably the game has many issues and shortcomings, but the soundtrack and the original score are not one of them. Huge shoutout to the sound compartment and all the artists who took part in the game!!!!You know when they say that music and soundtrack really give \"personality\" and \"tone\" to a movie/game/etc? Well, IMO in Cyberpunk 2077 they do that with flying colours.\\n\\nThe original score is simply put amazing: absolutely enthralling, appropriate to the themes and the situations which o...</td>\n",
       "    </tr>\n",
       "    <tr>\n",
       "      <th>kchkx4</th>\n",
       "      <td>NEGATIVE</td>\n",
       "      <td>In Night City you can be anyone, even a vending machine. Now we know why the main character is named V. I fucking hate that ad \"you can be anyone\" ok lol:D Wake the fuck up Vending Machine, we’ve got Hot Cheetos to sell.</td>\n",
       "    </tr>\n",
       "    <tr>\n",
       "      <th>kfrkav</th>\n",
       "      <td>NEGATIVE</td>\n",
       "      <td>The way he looked at me will haunt my dreams for life. damn, haha  \\n\"Yeah look at me, look what you've done'' \\*dies\\* He had to make sure you see what you did to him before he die in peace 🕊️</td>\n",
       "    </tr>\n",
       "    <tr>\n",
       "      <th>kf1iuc</th>\n",
       "      <td>NEGATIVE</td>\n",
       "      <td>missed my turn so i thought id take the next available. wasn't my best decision You have entered the cyberspace duh. It’s not a bug... Cyberpunk2077: A hole new way to travel.</td>\n",
       "    </tr>\n",
       "    <tr>\n",
       "      <th>kfyluu</th>\n",
       "      <td>NEGATIVE</td>\n",
       "      <td>I haven't seen her get much recognition, but I liked her. Just wish we had more time with her and Jackie. Loved them both, but that 6 month skip really did hurt stuff looking back at things. Shame about how it turned out, but I loved her inclusion. Had no desire for a romance option with her, but I think she could have been an awesome platonic friend for V. Especially since they were both mourning Jackie. Could have been an important grounding force for the character. Instead, she's the taro...</td>\n",
       "    </tr>\n",
       "  </tbody>\n",
       "</table>\n",
       "</div>"
      ],
      "text/plain": [
       "                label  \\\n",
       "kdnrxb  UNPREDICTABLE   \n",
       "kchkx4       NEGATIVE   \n",
       "kfrkav       NEGATIVE   \n",
       "kf1iuc       NEGATIVE   \n",
       "kfyluu       NEGATIVE   \n",
       "\n",
       "                                                                                                                                                                                                                                                                                                                                                                                                                                                                                                                       docs  \n",
       "kdnrxb  Undoubtably the game has many issues and shortcomings, but the soundtrack and the original score are not one of them. Huge shoutout to the sound compartment and all the artists who took part in the game!!!!You know when they say that music and soundtrack really give \"personality\" and \"tone\" to a movie/game/etc? Well, IMO in Cyberpunk 2077 they do that with flying colours.\\n\\nThe original score is simply put amazing: absolutely enthralling, appropriate to the themes and the situations which o...  \n",
       "kchkx4                                                                                                                                                                                                                                                                                         In Night City you can be anyone, even a vending machine. Now we know why the main character is named V. I fucking hate that ad \"you can be anyone\" ok lol:D Wake the fuck up Vending Machine, we’ve got Hot Cheetos to sell.  \n",
       "kfrkav                                                                                                                                                                                                                                                                                                                    The way he looked at me will haunt my dreams for life. damn, haha  \\n\"Yeah look at me, look what you've done'' \\*dies\\* He had to make sure you see what you did to him before he die in peace 🕊️  \n",
       "kf1iuc                                                                                                                                                                                                                                                                                                                                      missed my turn so i thought id take the next available. wasn't my best decision You have entered the cyberspace duh. It’s not a bug... Cyberpunk2077: A hole new way to travel.  \n",
       "kfyluu  I haven't seen her get much recognition, but I liked her. Just wish we had more time with her and Jackie. Loved them both, but that 6 month skip really did hurt stuff looking back at things. Shame about how it turned out, but I loved her inclusion. Had no desire for a romance option with her, but I think she could have been an awesome platonic friend for V. Especially since they were both mourning Jackie. Could have been an important grounding force for the character. Instead, she's the taro...  "
      ]
     },
     "execution_count": 52,
     "metadata": {},
     "output_type": "execute_result"
    }
   ],
   "source": [
    "post_docs_sentiment.tail(5)"
   ]
  },
  {
   "cell_type": "code",
   "execution_count": 53,
   "metadata": {},
   "outputs": [
    {
     "data": {
      "text/plain": [
       "NEGATIVE         154\n",
       "UNPREDICTABLE     82\n",
       "POSITIVE          42\n",
       "Name: label, dtype: int64"
      ]
     },
     "execution_count": 53,
     "metadata": {},
     "output_type": "execute_result"
    }
   ],
   "source": [
    "post_docs_sentiment['label'].value_counts()"
   ]
  },
  {
   "cell_type": "code",
   "execution_count": 54,
   "metadata": {},
   "outputs": [
    {
     "data": {
      "image/png": "[encoded data removed]",
      "text/plain": [
       "<Figure size 432x288 with 1 Axes>"
      ]
     },
     "metadata": {
      "needs_background": "light"
     },
     "output_type": "display_data"
    }
   ],
   "source": [
    "ax = sns.countplot(x=\"label\", data=post_docs_sentiment, \n",
    "                   order = post_docs_sentiment['label'].value_counts().index,\n",
    "                   palette=dict(NEGATIVE=\"lightblue\", POSITIVE=\"lightpink\", UNPREDICTABLE=\"lightgreen\"))"
   ]
  },
  {
   "cell_type": "markdown",
   "metadata": {},
   "source": [
    "# 5. Conclusion"
   ]
  },
  {
   "cell_type": "markdown",
   "metadata": {},
   "source": [
    "This project aims to understand the social buzz around the most anticipated game Cyberpunk 2077, particularly the enormous expectation before its release and the huge disappointment after its release. Echoing back to the high-level questions set out in the Introduction of this report -\n",
    "\n",
    "- **What are the most discussed topics about Cyberpunk 2077 on Reddit pre- and post- release?**\n",
    "\n",
    "    The most popular pre-release topics are Trailer (is fire), Looking forward to playing (in Christmas) and Day 1 patch (bugs).<br>\n",
    "    On the contrary, the most popular post-release topics are Sony refunds, CDPR apology, Police AI (very bad).<br><br>\n",
    "    It can be observed that the focus of topics on Reddit posts have been drastically shifted from the expectation developed towards the trailer and playing to the refund and apology from gamer developer and game consoles, etc., which means our model selection is effective in capturing the focus of social buzz at different phases.\n",
    "<br>\n",
    "\n",
    "- **Whether Reddit users demonstrate polarised emotions pre- and post-release?**\n",
    "\n",
    "    The share of negative comments increased from 67% during pre-release to 78% during the post-release phase among identifiable/predictable posts, which means Reddit users demonstrate a more negative emotion in the post-release phase compared with pre-release.<br><br>\n",
    "    It verifies the key findings from the topic modelling that the topics are shifted towards negative areas of the game after the launch.\n",
    "<br>\n",
    "\n",
    "- **How can gaming companies better use social listening strategy to monitor social media platforms such as Reddit?**\n",
    "\n",
    "    Gaming companies are suggested to perform prototype their Social Listening strategy in a similar approach to this project as their initial exploration. By developing topic modelling and sentiment analysis, these companies will be capable of capturing and analysing the content that users talk about their products online.\n",
    "    \n",
    "    In addition, these companies can also develop a similar strategy to monitor the social content of their competitors in order to develop a better understanding of the entire competitive landscape, which will be helpful to the gap analysis between the companies with regards to various topics, including products, marketing and public relations, etc.\n",
    "    \n",
    "    Apart from the areas mentioned above, the gaming companies may prioritise the monitoring task during post-release phase as the majority of the social media discussions take place after the official launch and likely to driven by hardcore gamers, as mentioned in Section 2. "
   ]
  },
  {
   "cell_type": "markdown",
   "metadata": {},
   "source": [
    "# 6. Limitations and Future Research"
   ]
  },
  {
   "cell_type": "markdown",
   "metadata": {},
   "source": [
    "This research is subject to some internal validity issues.\n",
    "\n",
    "In terms of topic modelling, there are many other models like PLSA and LDA in deep learning (i.e. lda2vec) that we may choose to implement for our research if more time allows. These models may be more appropriate for our case and deliver more insightful results. \n",
    "\n",
    "In terms of sentiment analysis, the current model applied may not be ideal for long sentences as we still have 20% unrecognisable posts. There are two aspects for overlooking and ameliorating: \n",
    "\n",
    "1) Quality of the labels: labelling is even a challenging task for humans, and it is vital for the performance of a model. Since human labelling is subject to subjectivity, we may define a series of explicit rules of assigning a positive/negative label after having a better grasp of the posts and comments, such that the label quality and the model results may be improved.\n",
    "\n",
    "2) Appropriateness of models: compared to the current sentiment analysis, it is better to implement an End-to-End Aspect Based Sentiment Analysis for future scope. We can extract the topics of the game community's interest and predict the polarity and intensity of sentiment simultaneously. \n",
    "\n",
    "Moreover, Reddit is an informal platform in which all users can share a plethora of media forms. In some cases, the posts and comments are talking about a picture, a video, a link. Because of this, we lose a good amount of context to conduct topic modelling and sentiment analysis. Excluding these types of posts would help in getting a better result. "
   ]
  },
  {
   "cell_type": "markdown",
   "metadata": {},
   "source": [
    "# 7. Bibliography"
   ]
  },
  {
   "cell_type": "markdown",
   "metadata": {},
   "source": [
    "[1] Géron, A., 2020. Hands-on machine learning with Scikit-Learn, Keras, and TensorFlow. Beijing: O'Reilly.\n",
    "\n",
    "[2] Medium. 2021. 2 latent methods for dimension reduction and topic modeling. [online] Available at: <https://towardsdatascience.com/2-latent-methods-for-dimension-reduction-and-topic-modeling-20ff6d7d547> [Accessed 6 April 2021].\n",
    "\n",
    "[3] Medium. 2021. Aspect-Based Sentiment Analysis Using Spacy & TextBlob. [online] Available at: <https://towardsdatascience.com/aspect-based-sentiment-analysis-using-spacy-textblob-4c8de3e0d2b9> [Accessed 9 April 2021].\n",
    "\n",
    "[4] Medium. 2021. Don’t be Afraid of Nonparametric Topic Models. [online] Available at: <https://towardsdatascience.com/dont-be-afraid-of-nonparametric-topic-models-d259c237a840> [Accessed 9 April 2021].\n",
    "\n",
    "[5] Medium. 2021. Don’t be Afraid of Nonparametric Topic Models (Part 2: Python). [online] Available at: <https://towardsdatascience.com/dont-be-afraid-of-nonparametric-topic-models-part-2-python-e5666db347a> [Accessed 10 April 2021].\n",
    "\n",
    "[6] Medium. 2021. Latent Semantic Analysis: intuition, math, implementation. [online] Available at: <https://towardsdatascience.com/latent-semantic-analysis-intuition-math-implementation-a194aff870f8> [Accessed 9 April 2021].\n",
    "\n",
    "[7] Medium. 2021. Sentiment Analysis with Python Part 2. [online] Available at: <https://towardsdatascience.com/sentiment-analysis-with-python-part-2-4f71e7bde59a> [Accessed 7 April 2021].\n",
    "\n",
    "[8] Medium. 2021. Sentiment Analysis with Python Part 1. [online] Available at: <https://towardsdatascience.com/sentiment-analysis-with-python-part-1-5ce197074184> [Accessed 7 April 2021].\n",
    "\n",
    "[9] Medium. 2021. Topic Modeling and Latent Dirichlet Allocation in Python. [online] Available at: <https://towardsdatascience.com/topic-modeling-and-latent-dirichlet-allocation-in-python-9bf156893c24> [Accessed 2 April 2021].\n",
    "\n",
    "[10] Medium. 2021. Topic Modeling Singapore's Subreddit Comments with Natural Language Processing. [online] Available at: <https://towardsdatascience.com/topic-modeling-singapores-subreddit-comments-with-natural-language-processing-336d15da3ff4> [Accessed 6 April 2021].\n",
    "\n",
    "[11] Medium. 2021. Short Text Topic Modeling. [online] Available at: <https://towardsdatascience.com/short-text-topic-modeling-70e50a57c883> [Accessed 12 April 2021].\n",
    "\n",
    "[12] Medium. 2021. What is the Significance of C value in Support Vector Machine?. [online] Available at: <https://medium.com/@pushkarmandot/what-is-the-significance-of-c-value-in-support-vector-machine-28224e852c5a> [Accessed 6 March 2021]."
   ]
  },
  {
   "cell_type": "markdown",
   "metadata": {},
   "source": [
    "# 8. Appendix"
   ]
  },
  {
   "cell_type": "markdown",
   "metadata": {},
   "source": [
    "## Data Scraping Code"
   ]
  },
  {
   "cell_type": "code",
   "execution_count": null,
   "metadata": {},
   "outputs": [],
   "source": [
    "import praw as pr\n",
    "import pandas as pd\n",
    "import numpy as np\n",
    "import getpass as gp\n",
    "import json\n",
    "\n",
    "from datetime import datetime"
   ]
  },
  {
   "cell_type": "code",
   "execution_count": null,
   "metadata": {},
   "outputs": [],
   "source": [
    "client_id = gp.getpass('client id:')\n",
    "client_secret = gp.getpass('client secret:')\n",
    "username = gp.getpass('username:')\n",
    "password = gp.getpass('password:')\n",
    "user_agent = f'faculty:ucl.nlp.project:v0.0.1 (by u/{username})'\n",
    "\n",
    "reddit = pr.Reddit(\n",
    "    client_id=client_id,\n",
    "    client_secret=client_secret,\n",
    "    user_agent=user_agent,\n",
    "    username=username,\n",
    "    password=password,\n",
    ")\n",
    "\n",
    "sub = reddit.subreddit('cyberpunkgame')\n",
    "sub.post_requirements()"
   ]
  },
  {
   "cell_type": "code",
   "execution_count": null,
   "metadata": {},
   "outputs": [],
   "source": [
    "start_dt = datetime(2020, 11, 1)\n",
    "end_dt = datetime(2021, 1, 31)\n",
    "\n",
    "all_posts = dict()\n",
    "score_threshold = 10000\n",
    "filter_limit = 500\n",
    "\n",
    "for submission in sub.top(time_filter='all', limit=filter_limit):\n",
    "    post_dt = datetime.fromtimestamp(submission.created_utc)\n",
    "    if (post_dt >= start_dt) & (post_dt <= end_dt) & (submission.score >= score_threshold):\n",
    "        all_posts[submission.id] = dict()\n",
    "        all_posts[submission.id]['title'] = submission.title\n",
    "        all_posts[submission.id]['selftext'] = submission.selftext\n",
    "        all_posts[submission.id]['post_date'] = post_dt.strftime('%d-%b-%Y') \n",
    "        all_posts[submission.id]['flair'] = submission.link_flair_text\n",
    "        all_posts[submission.id]['is_self'] = submission.is_self\n",
    "        all_posts[submission.id]['num_comments'] = submission.num_comments\n",
    "        all_posts[submission.id]['score'] = submission.score\n",
    "        all_posts[submission.id]['upvote_ratio'] = submission.upvote_ratio\n",
    "        all_posts[submission.id]['total_awards_received'] = submission.total_awards_received\n",
    "        all_posts[submission.id]['url'] = submission.url"
   ]
  },
  {
   "cell_type": "code",
   "execution_count": null,
   "metadata": {},
   "outputs": [],
   "source": [
    "all_comments = dict()\n",
    "comment_score_treshold = 200\n",
    "\n",
    "# traversing all posts and each comment forest takes a while, this cell runs in about 15-20 mins\n",
    "for k in all_posts.keys():\n",
    "    submission = reddit.submission(id=k)\n",
    "    submission.comment_sort = \"top\"\n",
    "    submission.comments.replace_more(0)\n",
    "    for comment in submission.comments.list():\n",
    "        if comment.score >= comment_score_treshold:\n",
    "            all_comments[comment.id] = dict()\n",
    "            all_comments[comment.id]['post_id'] = k\n",
    "            all_comments[comment.id]['score'] = comment.score\n",
    "            all_comments[comment.id]['body'] = comment.body\n",
    "        else:\n",
    "            break"
   ]
  },
  {
   "cell_type": "code",
   "execution_count": null,
   "metadata": {},
   "outputs": [],
   "source": [
    "with open(\"posts.json\", \"w\") as f:\n",
    "    json.dump(all_posts, f)\n",
    "    \n",
    "with open(\"comments.json\", \"w\") as f:\n",
    "    json.dump(all_comments, f)"
   ]
  },
  {
   "cell_type": "code",
   "execution_count": null,
   "metadata": {},
   "outputs": [],
   "source": [
    "df_posts = pd.read_json('posts.json', orient='index')\n",
    "df_posts.head()\n",
    "\n",
    "df_posts['post_date'] = pd.to_datetime(df_posts['post_date'])\n",
    "(df_posts['post_date'] > datetime(2020, 12, 10)).value_counts()"
   ]
  }
 ],
 "metadata": {
  "colab": {
   "collapsed_sections": [],
   "name": "NLP Cyberpunk Project.ipynb",
   "provenance": []
  },
  "kernelspec": {
   "display_name": "Python 3",
   "language": "python",
   "name": "python3"
  },
  "language_info": {
   "codemirror_mode": {
    "name": "ipython",
    "version": 3
   },
   "file_extension": ".py",
   "mimetype": "text/x-python",
   "name": "python",
   "nbconvert_exporter": "python",
   "pygments_lexer": "ipython3",
   "version": "3.8.3"
  }
 },
 "nbformat": 4,
 "nbformat_minor": 1
}
